{
  "nbformat": 4,
  "nbformat_minor": 0,
  "metadata": {
    "colab": {
      "name": "Toby LS_DS_432_Train_Assignment.ipynb",
      "provenance": [],
      "collapsed_sections": [],
      "toc_visible": true,
      "include_colab_link": true
    },
    "kernelspec": {
      "display_name": "Python 3",
      "language": "python",
      "name": "python3"
    },
    "language_info": {
      "codemirror_mode": {
        "name": "ipython",
        "version": 3
      },
      "file_extension": ".py",
      "mimetype": "text/x-python",
      "name": "python",
      "nbconvert_exporter": "python",
      "pygments_lexer": "ipython3",
      "version": "3.7.3"
    },
    "nteract": {
      "version": "0.22.4"
    },
    "accelerator": "GPU"
  },
  "cells": [
    {
      "cell_type": "markdown",
      "metadata": {
        "id": "view-in-github",
        "colab_type": "text"
      },
      "source": [
        "<a href=\"https://colab.research.google.com/github/TobyChen320/DS-Unit-4-Sprint-2-Neural-Networks/blob/main/module2-Train/Toby_LS_DS_432_Train_Assignment.ipynb\" target=\"_parent\"><img src=\"https://colab.research.google.com/assets/colab-badge.svg\" alt=\"Open In Colab\"/></a>"
      ]
    },
    {
      "cell_type": "markdown",
      "metadata": {
        "colab_type": "text",
        "id": "NGGrt9EYlCqY"
      },
      "source": [
        "<img align=\"left\" src=\"https://lever-client-logos.s3.amazonaws.com/864372b1-534c-480e-acd5-9711f850815c-1524247202159.png\" width=200>\n",
        "<br></br>\n",
        "<br></br>\n",
        "\n",
        "# Train Practice\n",
        "\n",
        "## *Data Science Unit 4 Sprint 2 Assignment 2*\n",
        "\n",
        "Continue to use TensorFlow Keras & a sample of the [Quickdraw dataset](https://github.com/googlecreativelab/quickdraw-dataset) to build a sketch classification model. The dataset has been sampled to only 10 classes and 10000 observations per class. Please build a baseline classification model then run a few experiments with different optimizers and learning rates. \n",
        "\n",
        "*Don't forgot to switch to GPU on Colab!*"
      ]
    },
    {
      "cell_type": "markdown",
      "metadata": {
        "id": "ptJ2b3wk62Ud",
        "colab_type": "text"
      },
      "source": [
        "### Write a function to load your data\n",
        "\n",
        "Wrap yesterday's preprocessing steps into a function that returns four items:\n",
        "* X_train\n",
        "* y_train\n",
        "* X_test\n",
        "* y_test\n",
        "\n",
        "Your function should accept a `path` to the data as a argument."
      ]
    },
    {
      "cell_type": "code",
      "metadata": {
        "id": "6NqHrKVTbmeC",
        "colab_type": "code",
        "colab": {
          "resources": {
            "http://localhost:8080/nbextensions/google.colab/files.js": {
              "data": "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",
              "ok": true,
              "headers": [
                [
                  "content-type",
                  "application/javascript"
                ]
              ],
              "status": 200,
              "status_text": ""
            }
          },
          "base_uri": "https://localhost:8080/",
          "height": 72
        },
        "outputId": "d23d66f7-57fe-4884-8c04-4d15db98c2ac"
      },
      "source": [
        "from google.colab import files\n",
        "uploaded = files.upload()"
      ],
      "execution_count": 6,
      "outputs": [
        {
          "output_type": "display_data",
          "data": {
            "text/html": [
              "\n",
              "     <input type=\"file\" id=\"files-1e56b22a-4646-4a47-abe4-ac66d59de485\" name=\"files[]\" multiple disabled\n",
              "        style=\"border:none\" />\n",
              "     <output id=\"result-1e56b22a-4646-4a47-abe4-ac66d59de485\">\n",
              "      Upload widget is only available when the cell has been executed in the\n",
              "      current browser session. Please rerun this cell to enable.\n",
              "      </output>\n",
              "      <script src=\"/nbextensions/google.colab/files.js\"></script> "
            ],
            "text/plain": [
              "<IPython.core.display.HTML object>"
            ]
          },
          "metadata": {
            "tags": []
          }
        },
        {
          "output_type": "stream",
          "text": [
            "Saving quickdraw10.npz to quickdraw10.npz\n"
          ],
          "name": "stdout"
        }
      ]
    },
    {
      "cell_type": "code",
      "metadata": {
        "id": "nJsIsrvp7O3e",
        "colab_type": "code",
        "colab": {}
      },
      "source": [
        "import numpy as np\n",
        "from sklearn.model_selection import train_test_split\n",
        "\n",
        "def load_quickdraw10(path):\n",
        "  data = np.load(path)\n",
        "  X = data['arr_0']\n",
        "  y = data['arr_1']\n",
        "  X_train, y_train, X_test, y_test = train_test_split(X, y, test_size=.2)\n",
        "  return X_train, y_train, X_test, y_test"
      ],
      "execution_count": 7,
      "outputs": []
    },
    {
      "cell_type": "code",
      "metadata": {
        "id": "0g49X9xpex-K",
        "colab_type": "code",
        "colab": {
          "base_uri": "https://localhost:8080/",
          "height": 85
        },
        "outputId": "3e145d8d-b65b-4911-ddfd-db67123e59e5"
      },
      "source": [
        "X_train, X_test, y_train, y_test = load_quickdraw10('quickdraw10.npz')\n",
        "print(X_train.shape)\n",
        "print(y_train.shape)\n",
        "print(X_test.shape)\n",
        "print(y_test.shape)"
      ],
      "execution_count": 8,
      "outputs": [
        {
          "output_type": "stream",
          "text": [
            "(80000, 784)\n",
            "(80000,)\n",
            "(20000, 784)\n",
            "(20000,)\n"
          ],
          "name": "stdout"
        }
      ]
    },
    {
      "cell_type": "markdown",
      "metadata": {
        "id": "l-6PxI6H5__2",
        "colab_type": "text"
      },
      "source": [
        "### Write a Model Function\n",
        "Using your model from yesterday, write a function called `create_model` which returns a compiled TensorFlow Keras Sequential Model suitable for classifying the QuickDraw-10 dataset. Include parameters for the following: \n",
        "* Learning Rate\n",
        "* Optimizer"
      ]
    },
    {
      "cell_type": "code",
      "metadata": {
        "colab_type": "code",
        "id": "nEREYT-3wI1f",
        "colab": {}
      },
      "source": [
        "##### Your Code Here #####\n",
        "from tensorflow.keras import Sequential\n",
        "from tensorflow.keras.layers import Dense\n",
        "from tensorflow.keras.optimizers import Adam\n",
        "def create_model(lr=0.001):\n",
        "  opt = Adam(learning_rate=lr)\n",
        "  model = Sequential([\n",
        "                      Dense(32, activation='relu', input_dim=784),\n",
        "                      Dense(32, activation='relu'),\n",
        "                      Dense(10, activation='softmax')\n",
        "  ])\n",
        "  model.compile(optimizer=opt,\n",
        "                loss='sparse_categorical_crossentropy',\n",
        "                metrics=['accuracy'])\n",
        "  return model"
      ],
      "execution_count": 9,
      "outputs": []
    },
    {
      "cell_type": "code",
      "metadata": {
        "id": "UzU5QE2oELZ9",
        "colab_type": "code",
        "colab": {
          "base_uri": "https://localhost:8080/",
          "height": 257
        },
        "outputId": "550af960-d13a-455d-baed-2eb2d34db26a"
      },
      "source": [
        "model = create_model()\n",
        "model.summary()"
      ],
      "execution_count": 10,
      "outputs": [
        {
          "output_type": "stream",
          "text": [
            "Model: \"sequential\"\n",
            "_________________________________________________________________\n",
            "Layer (type)                 Output Shape              Param #   \n",
            "=================================================================\n",
            "dense (Dense)                (None, 32)                25120     \n",
            "_________________________________________________________________\n",
            "dense_1 (Dense)              (None, 32)                1056      \n",
            "_________________________________________________________________\n",
            "dense_2 (Dense)              (None, 10)                330       \n",
            "=================================================================\n",
            "Total params: 26,506\n",
            "Trainable params: 26,506\n",
            "Non-trainable params: 0\n",
            "_________________________________________________________________\n"
          ],
          "name": "stdout"
        }
      ]
    },
    {
      "cell_type": "markdown",
      "metadata": {
        "id": "f0pCkh8C7eGL",
        "colab_type": "text"
      },
      "source": [
        "### Experiment with Batch Size\n",
        "* Run 5 experiments with various batch sizes of your choice. \n",
        "* Visualize the results\n",
        "* Write up an analysis of the experiments and select the \"best\" performing model among your experiments. Make sure to compare against your model's performance yesterday. "
      ]
    },
    {
      "cell_type": "code",
      "metadata": {
        "id": "USXjs7Hk71Hy",
        "colab_type": "code",
        "colab": {
          "base_uri": "https://localhost:8080/",
          "height": 1000
        },
        "outputId": "10466c95-6fb8-43d9-f158-b56b2400540d"
      },
      "source": [
        "model = create_model()\n",
        "\n",
        "bt_default = model.fit(X_train, \n",
        "                       y_train,\n",
        "                       epochs=30,\n",
        "                       batch_size=32,\n",
        "                       validation_data=(X_test, y_test)\n",
        ")"
      ],
      "execution_count": 11,
      "outputs": [
        {
          "output_type": "stream",
          "text": [
            "Epoch 1/30\n",
            "2500/2500 [==============================] - 6s 2ms/step - loss: 2.0616 - accuracy: 0.3956 - val_loss: 1.3919 - val_accuracy: 0.4823\n",
            "Epoch 2/30\n",
            "2500/2500 [==============================] - 5s 2ms/step - loss: 1.2850 - accuracy: 0.5368 - val_loss: 1.2433 - val_accuracy: 0.5773\n",
            "Epoch 3/30\n",
            "2500/2500 [==============================] - 5s 2ms/step - loss: 1.1769 - accuracy: 0.5983 - val_loss: 1.1553 - val_accuracy: 0.6182\n",
            "Epoch 4/30\n",
            "2500/2500 [==============================] - 5s 2ms/step - loss: 1.1277 - accuracy: 0.6190 - val_loss: 1.1239 - val_accuracy: 0.6187\n",
            "Epoch 5/30\n",
            "2500/2500 [==============================] - 5s 2ms/step - loss: 1.1043 - accuracy: 0.6240 - val_loss: 1.1520 - val_accuracy: 0.6176\n",
            "Epoch 6/30\n",
            "2500/2500 [==============================] - 5s 2ms/step - loss: 1.0763 - accuracy: 0.6357 - val_loss: 1.0805 - val_accuracy: 0.6323\n",
            "Epoch 7/30\n",
            "2500/2500 [==============================] - 5s 2ms/step - loss: 1.0469 - accuracy: 0.6457 - val_loss: 1.0602 - val_accuracy: 0.6507\n",
            "Epoch 8/30\n",
            "2500/2500 [==============================] - 5s 2ms/step - loss: 1.0080 - accuracy: 0.6705 - val_loss: 1.0217 - val_accuracy: 0.6859\n",
            "Epoch 9/30\n",
            "2500/2500 [==============================] - 5s 2ms/step - loss: 0.9598 - accuracy: 0.6939 - val_loss: 0.9774 - val_accuracy: 0.6887\n",
            "Epoch 10/30\n",
            "2500/2500 [==============================] - 5s 2ms/step - loss: 0.9114 - accuracy: 0.7151 - val_loss: 0.8931 - val_accuracy: 0.7222\n",
            "Epoch 11/30\n",
            "2500/2500 [==============================] - 5s 2ms/step - loss: 0.8700 - accuracy: 0.7312 - val_loss: 0.8901 - val_accuracy: 0.7286\n",
            "Epoch 12/30\n",
            "2500/2500 [==============================] - 5s 2ms/step - loss: 0.8449 - accuracy: 0.7401 - val_loss: 0.8719 - val_accuracy: 0.7295\n",
            "Epoch 13/30\n",
            "2500/2500 [==============================] - 5s 2ms/step - loss: 0.8269 - accuracy: 0.7463 - val_loss: 0.8411 - val_accuracy: 0.7401\n",
            "Epoch 14/30\n",
            "2500/2500 [==============================] - 5s 2ms/step - loss: 0.8110 - accuracy: 0.7543 - val_loss: 0.8364 - val_accuracy: 0.7499\n",
            "Epoch 15/30\n",
            "2500/2500 [==============================] - 5s 2ms/step - loss: 0.8000 - accuracy: 0.7581 - val_loss: 0.8605 - val_accuracy: 0.7344\n",
            "Epoch 16/30\n",
            "2500/2500 [==============================] - 5s 2ms/step - loss: 0.7904 - accuracy: 0.7622 - val_loss: 0.8321 - val_accuracy: 0.7515\n",
            "Epoch 17/30\n",
            "2500/2500 [==============================] - 5s 2ms/step - loss: 0.7841 - accuracy: 0.7635 - val_loss: 0.8231 - val_accuracy: 0.7535\n",
            "Epoch 18/30\n",
            "2500/2500 [==============================] - 5s 2ms/step - loss: 0.7852 - accuracy: 0.7649 - val_loss: 0.8175 - val_accuracy: 0.7589\n",
            "Epoch 19/30\n",
            "2500/2500 [==============================] - 5s 2ms/step - loss: 0.7804 - accuracy: 0.7647 - val_loss: 0.8337 - val_accuracy: 0.7507\n",
            "Epoch 20/30\n",
            "2500/2500 [==============================] - 5s 2ms/step - loss: 0.7754 - accuracy: 0.7675 - val_loss: 0.8277 - val_accuracy: 0.7576\n",
            "Epoch 21/30\n",
            "2500/2500 [==============================] - 5s 2ms/step - loss: 0.7722 - accuracy: 0.7686 - val_loss: 0.8403 - val_accuracy: 0.7565\n",
            "Epoch 22/30\n",
            "2500/2500 [==============================] - 5s 2ms/step - loss: 0.7673 - accuracy: 0.7704 - val_loss: 0.8499 - val_accuracy: 0.7357\n",
            "Epoch 23/30\n",
            "2500/2500 [==============================] - 5s 2ms/step - loss: 0.7575 - accuracy: 0.7724 - val_loss: 0.8206 - val_accuracy: 0.7566\n",
            "Epoch 24/30\n",
            "2500/2500 [==============================] - 5s 2ms/step - loss: 0.7633 - accuracy: 0.7715 - val_loss: 0.8152 - val_accuracy: 0.7629\n",
            "Epoch 25/30\n",
            "2500/2500 [==============================] - 5s 2ms/step - loss: 0.7582 - accuracy: 0.7723 - val_loss: 0.8055 - val_accuracy: 0.7649\n",
            "Epoch 26/30\n",
            "2500/2500 [==============================] - 5s 2ms/step - loss: 0.7598 - accuracy: 0.7745 - val_loss: 0.8193 - val_accuracy: 0.7560\n",
            "Epoch 27/30\n",
            "2500/2500 [==============================] - 5s 2ms/step - loss: 0.7539 - accuracy: 0.7736 - val_loss: 0.8131 - val_accuracy: 0.7637\n",
            "Epoch 28/30\n",
            "2500/2500 [==============================] - 5s 2ms/step - loss: 0.7494 - accuracy: 0.7765 - val_loss: 0.8025 - val_accuracy: 0.7643\n",
            "Epoch 29/30\n",
            "2500/2500 [==============================] - 5s 2ms/step - loss: 0.7462 - accuracy: 0.7777 - val_loss: 0.8124 - val_accuracy: 0.7616\n",
            "Epoch 30/30\n",
            "2500/2500 [==============================] - 5s 2ms/step - loss: 0.7448 - accuracy: 0.7807 - val_loss: 0.8031 - val_accuracy: 0.7671\n"
          ],
          "name": "stdout"
        }
      ]
    },
    {
      "cell_type": "code",
      "metadata": {
        "id": "_ESnCiuao05C",
        "colab_type": "code",
        "colab": {
          "base_uri": "https://localhost:8080/",
          "height": 1000
        },
        "outputId": "08533498-4ad0-4d71-9578-e09348361c19"
      },
      "source": [
        "model = create_model()\n",
        "\n",
        "bt_small = model.fit(X_train, \n",
        "                       y_train,\n",
        "                       epochs=30,\n",
        "                       batch_size=8,\n",
        "                       validation_data=(X_test, y_test)\n",
        ")"
      ],
      "execution_count": 12,
      "outputs": [
        {
          "output_type": "stream",
          "text": [
            "Epoch 1/30\n",
            "10000/10000 [==============================] - 21s 2ms/step - loss: 1.8902 - accuracy: 0.3976 - val_loss: 1.5373 - val_accuracy: 0.4762\n",
            "Epoch 2/30\n",
            "10000/10000 [==============================] - 20s 2ms/step - loss: 1.4218 - accuracy: 0.4806 - val_loss: 1.4023 - val_accuracy: 0.5028\n",
            "Epoch 3/30\n",
            "10000/10000 [==============================] - 20s 2ms/step - loss: 1.3114 - accuracy: 0.5240 - val_loss: 1.2360 - val_accuracy: 0.5559\n",
            "Epoch 4/30\n",
            "10000/10000 [==============================] - 20s 2ms/step - loss: 1.1802 - accuracy: 0.5672 - val_loss: 1.1541 - val_accuracy: 0.5724\n",
            "Epoch 5/30\n",
            "10000/10000 [==============================] - 20s 2ms/step - loss: 1.1003 - accuracy: 0.6019 - val_loss: 1.0775 - val_accuracy: 0.6322\n",
            "Epoch 6/30\n",
            "10000/10000 [==============================] - 20s 2ms/step - loss: 1.0027 - accuracy: 0.6618 - val_loss: 0.9966 - val_accuracy: 0.6892\n",
            "Epoch 7/30\n",
            "10000/10000 [==============================] - 20s 2ms/step - loss: 0.9490 - accuracy: 0.7018 - val_loss: 0.9851 - val_accuracy: 0.6981\n",
            "Epoch 8/30\n",
            "10000/10000 [==============================] - 22s 2ms/step - loss: 0.9336 - accuracy: 0.7050 - val_loss: 0.9514 - val_accuracy: 0.6981\n",
            "Epoch 9/30\n",
            "10000/10000 [==============================] - 20s 2ms/step - loss: 0.9259 - accuracy: 0.7101 - val_loss: 0.9537 - val_accuracy: 0.6923\n",
            "Epoch 10/30\n",
            "10000/10000 [==============================] - 20s 2ms/step - loss: 0.9206 - accuracy: 0.7079 - val_loss: 0.9726 - val_accuracy: 0.6863\n",
            "Epoch 11/30\n",
            "10000/10000 [==============================] - 20s 2ms/step - loss: 0.9210 - accuracy: 0.7072 - val_loss: 0.9606 - val_accuracy: 0.6880\n",
            "Epoch 12/30\n",
            "10000/10000 [==============================] - 20s 2ms/step - loss: 0.9131 - accuracy: 0.7043 - val_loss: 0.9598 - val_accuracy: 0.6898\n",
            "Epoch 13/30\n",
            "10000/10000 [==============================] - 21s 2ms/step - loss: 0.9105 - accuracy: 0.7041 - val_loss: 0.9423 - val_accuracy: 0.7003\n",
            "Epoch 14/30\n",
            "10000/10000 [==============================] - 20s 2ms/step - loss: 0.9089 - accuracy: 0.7023 - val_loss: 0.9461 - val_accuracy: 0.6957\n",
            "Epoch 15/30\n",
            "10000/10000 [==============================] - 20s 2ms/step - loss: 0.9066 - accuracy: 0.7030 - val_loss: 0.9512 - val_accuracy: 0.6902\n",
            "Epoch 16/30\n",
            "10000/10000 [==============================] - 20s 2ms/step - loss: 0.9046 - accuracy: 0.7018 - val_loss: 0.9332 - val_accuracy: 0.6982\n",
            "Epoch 17/30\n",
            "10000/10000 [==============================] - 20s 2ms/step - loss: 0.9008 - accuracy: 0.7053 - val_loss: 0.9463 - val_accuracy: 0.6931\n",
            "Epoch 18/30\n",
            "10000/10000 [==============================] - 20s 2ms/step - loss: 0.9023 - accuracy: 0.7006 - val_loss: 0.9634 - val_accuracy: 0.6853\n",
            "Epoch 19/30\n",
            "10000/10000 [==============================] - 20s 2ms/step - loss: 0.9014 - accuracy: 0.7000 - val_loss: 0.9585 - val_accuracy: 0.6847\n",
            "Epoch 20/30\n",
            "10000/10000 [==============================] - 20s 2ms/step - loss: 0.8970 - accuracy: 0.7027 - val_loss: 0.9434 - val_accuracy: 0.6900\n",
            "Epoch 21/30\n",
            "10000/10000 [==============================] - 20s 2ms/step - loss: 0.8934 - accuracy: 0.7012 - val_loss: 0.9550 - val_accuracy: 0.6834\n",
            "Epoch 22/30\n",
            "10000/10000 [==============================] - 20s 2ms/step - loss: 0.8993 - accuracy: 0.7005 - val_loss: 0.9626 - val_accuracy: 0.6809\n",
            "Epoch 23/30\n",
            "10000/10000 [==============================] - 21s 2ms/step - loss: 0.8985 - accuracy: 0.7009 - val_loss: 0.9650 - val_accuracy: 0.6788\n",
            "Epoch 24/30\n",
            "10000/10000 [==============================] - 20s 2ms/step - loss: 0.8960 - accuracy: 0.7000 - val_loss: 0.9730 - val_accuracy: 0.6809\n",
            "Epoch 25/30\n",
            "10000/10000 [==============================] - 20s 2ms/step - loss: 0.8895 - accuracy: 0.7050 - val_loss: 0.9377 - val_accuracy: 0.6977\n",
            "Epoch 26/30\n",
            "10000/10000 [==============================] - 20s 2ms/step - loss: 0.8842 - accuracy: 0.7081 - val_loss: 0.9527 - val_accuracy: 0.6907\n",
            "Epoch 27/30\n",
            "10000/10000 [==============================] - 20s 2ms/step - loss: 0.8801 - accuracy: 0.7082 - val_loss: 0.9620 - val_accuracy: 0.6925\n",
            "Epoch 28/30\n",
            "10000/10000 [==============================] - 21s 2ms/step - loss: 0.8822 - accuracy: 0.7076 - val_loss: 0.9396 - val_accuracy: 0.6993\n",
            "Epoch 29/30\n",
            "10000/10000 [==============================] - 20s 2ms/step - loss: 0.8734 - accuracy: 0.7104 - val_loss: 0.9653 - val_accuracy: 0.6748\n",
            "Epoch 30/30\n",
            "10000/10000 [==============================] - 20s 2ms/step - loss: 0.8829 - accuracy: 0.7070 - val_loss: 0.9535 - val_accuracy: 0.6895\n"
          ],
          "name": "stdout"
        }
      ]
    },
    {
      "cell_type": "code",
      "metadata": {
        "id": "HZvUzivzp-76",
        "colab_type": "code",
        "colab": {
          "base_uri": "https://localhost:8080/",
          "height": 1000
        },
        "outputId": "a941c18d-d693-4abf-a655-f30403e95319"
      },
      "source": [
        "model = create_model()\n",
        "\n",
        "bt_large = model.fit(X_train, \n",
        "                       y_train,\n",
        "                       epochs=30,\n",
        "                       batch_size=512,\n",
        "                       validation_data=(X_test, y_test)\n",
        ")"
      ],
      "execution_count": 13,
      "outputs": [
        {
          "output_type": "stream",
          "text": [
            "Epoch 1/30\n",
            "157/157 [==============================] - 1s 4ms/step - loss: 6.7387 - accuracy: 0.1735 - val_loss: 2.1024 - val_accuracy: 0.2111\n",
            "Epoch 2/30\n",
            "157/157 [==============================] - 0s 3ms/step - loss: 1.9862 - accuracy: 0.2613 - val_loss: 1.8948 - val_accuracy: 0.2887\n",
            "Epoch 3/30\n",
            "157/157 [==============================] - 0s 3ms/step - loss: 1.8045 - accuracy: 0.3288 - val_loss: 1.7505 - val_accuracy: 0.3503\n",
            "Epoch 4/30\n",
            "157/157 [==============================] - 0s 3ms/step - loss: 1.6849 - accuracy: 0.3726 - val_loss: 1.6718 - val_accuracy: 0.3925\n",
            "Epoch 5/30\n",
            "157/157 [==============================] - 0s 3ms/step - loss: 1.5999 - accuracy: 0.4017 - val_loss: 1.5920 - val_accuracy: 0.3947\n",
            "Epoch 6/30\n",
            "157/157 [==============================] - 0s 3ms/step - loss: 1.5413 - accuracy: 0.4154 - val_loss: 1.5383 - val_accuracy: 0.4151\n",
            "Epoch 7/30\n",
            "157/157 [==============================] - 0s 3ms/step - loss: 1.4938 - accuracy: 0.4309 - val_loss: 1.4929 - val_accuracy: 0.4275\n",
            "Epoch 8/30\n",
            "157/157 [==============================] - 0s 3ms/step - loss: 1.4439 - accuracy: 0.4480 - val_loss: 1.4484 - val_accuracy: 0.4586\n",
            "Epoch 9/30\n",
            "157/157 [==============================] - 0s 3ms/step - loss: 1.3940 - accuracy: 0.4809 - val_loss: 1.3940 - val_accuracy: 0.4875\n",
            "Epoch 10/30\n",
            "157/157 [==============================] - 0s 3ms/step - loss: 1.3307 - accuracy: 0.5147 - val_loss: 1.3419 - val_accuracy: 0.5257\n",
            "Epoch 11/30\n",
            "157/157 [==============================] - 0s 3ms/step - loss: 1.2782 - accuracy: 0.5354 - val_loss: 1.3097 - val_accuracy: 0.5362\n",
            "Epoch 12/30\n",
            "157/157 [==============================] - 0s 3ms/step - loss: 1.2419 - accuracy: 0.5512 - val_loss: 1.2793 - val_accuracy: 0.5569\n",
            "Epoch 13/30\n",
            "157/157 [==============================] - 0s 3ms/step - loss: 1.2019 - accuracy: 0.5763 - val_loss: 1.2161 - val_accuracy: 0.5919\n",
            "Epoch 14/30\n",
            "157/157 [==============================] - 0s 3ms/step - loss: 1.1500 - accuracy: 0.6139 - val_loss: 1.1662 - val_accuracy: 0.6183\n",
            "Epoch 15/30\n",
            "157/157 [==============================] - 0s 3ms/step - loss: 1.0916 - accuracy: 0.6414 - val_loss: 1.1046 - val_accuracy: 0.6509\n",
            "Epoch 16/30\n",
            "157/157 [==============================] - 0s 3ms/step - loss: 1.0363 - accuracy: 0.6618 - val_loss: 1.0555 - val_accuracy: 0.6596\n",
            "Epoch 17/30\n",
            "157/157 [==============================] - 0s 3ms/step - loss: 0.9916 - accuracy: 0.6774 - val_loss: 1.0258 - val_accuracy: 0.6752\n",
            "Epoch 18/30\n",
            "157/157 [==============================] - 0s 3ms/step - loss: 0.9670 - accuracy: 0.6844 - val_loss: 0.9934 - val_accuracy: 0.6829\n",
            "Epoch 19/30\n",
            "157/157 [==============================] - 0s 3ms/step - loss: 0.9368 - accuracy: 0.6916 - val_loss: 0.9716 - val_accuracy: 0.6871\n",
            "Epoch 20/30\n",
            "157/157 [==============================] - 0s 3ms/step - loss: 0.9145 - accuracy: 0.6982 - val_loss: 0.9759 - val_accuracy: 0.6842\n",
            "Epoch 21/30\n",
            "157/157 [==============================] - 0s 3ms/step - loss: 0.9017 - accuracy: 0.7018 - val_loss: 0.9675 - val_accuracy: 0.6928\n",
            "Epoch 22/30\n",
            "157/157 [==============================] - 0s 3ms/step - loss: 0.8890 - accuracy: 0.7041 - val_loss: 0.9412 - val_accuracy: 0.6995\n",
            "Epoch 23/30\n",
            "157/157 [==============================] - 0s 3ms/step - loss: 0.8748 - accuracy: 0.7093 - val_loss: 0.9296 - val_accuracy: 0.6988\n",
            "Epoch 24/30\n",
            "157/157 [==============================] - 0s 3ms/step - loss: 0.8653 - accuracy: 0.7130 - val_loss: 0.9194 - val_accuracy: 0.7034\n",
            "Epoch 25/30\n",
            "157/157 [==============================] - 0s 3ms/step - loss: 0.8550 - accuracy: 0.7144 - val_loss: 0.9206 - val_accuracy: 0.7036\n",
            "Epoch 26/30\n",
            "157/157 [==============================] - 0s 3ms/step - loss: 0.8439 - accuracy: 0.7190 - val_loss: 0.9096 - val_accuracy: 0.7086\n",
            "Epoch 27/30\n",
            "157/157 [==============================] - 0s 3ms/step - loss: 0.8322 - accuracy: 0.7234 - val_loss: 0.9076 - val_accuracy: 0.7135\n",
            "Epoch 28/30\n",
            "157/157 [==============================] - 0s 3ms/step - loss: 0.8201 - accuracy: 0.7326 - val_loss: 0.9054 - val_accuracy: 0.7214\n",
            "Epoch 29/30\n",
            "157/157 [==============================] - 0s 3ms/step - loss: 0.8117 - accuracy: 0.7438 - val_loss: 0.8776 - val_accuracy: 0.7390\n",
            "Epoch 30/30\n",
            "157/157 [==============================] - 0s 3ms/step - loss: 0.8048 - accuracy: 0.7467 - val_loss: 0.8650 - val_accuracy: 0.7408\n"
          ],
          "name": "stdout"
        }
      ]
    },
    {
      "cell_type": "code",
      "metadata": {
        "id": "n4CJD0GzrUz9",
        "colab_type": "code",
        "colab": {
          "base_uri": "https://localhost:8080/",
          "height": 1000
        },
        "outputId": "8bdda435-b217-491d-c045-db2ba6e862f4"
      },
      "source": [
        "model = create_model()\n",
        "\n",
        "bt_large_1000 = model.fit(X_train, \n",
        "                       y_train,\n",
        "                       epochs=30,\n",
        "                       batch_size=1000,\n",
        "                       validation_data=(X_test, y_test)\n",
        ")"
      ],
      "execution_count": 14,
      "outputs": [
        {
          "output_type": "stream",
          "text": [
            "Epoch 1/30\n",
            "80/80 [==============================] - 0s 4ms/step - loss: 9.7427 - accuracy: 0.2272 - val_loss: 2.1100 - val_accuracy: 0.2445\n",
            "Epoch 2/30\n",
            "80/80 [==============================] - 0s 3ms/step - loss: 2.0214 - accuracy: 0.2793 - val_loss: 1.9443 - val_accuracy: 0.3054\n",
            "Epoch 3/30\n",
            "80/80 [==============================] - 0s 3ms/step - loss: 1.8230 - accuracy: 0.3634 - val_loss: 1.7239 - val_accuracy: 0.4099\n",
            "Epoch 4/30\n",
            "80/80 [==============================] - 0s 3ms/step - loss: 1.6217 - accuracy: 0.4407 - val_loss: 1.5734 - val_accuracy: 0.4595\n",
            "Epoch 5/30\n",
            "80/80 [==============================] - 0s 3ms/step - loss: 1.4979 - accuracy: 0.4897 - val_loss: 1.4762 - val_accuracy: 0.5110\n",
            "Epoch 6/30\n",
            "80/80 [==============================] - 0s 3ms/step - loss: 1.4021 - accuracy: 0.5232 - val_loss: 1.4218 - val_accuracy: 0.5195\n",
            "Epoch 7/30\n",
            "80/80 [==============================] - 0s 3ms/step - loss: 1.3414 - accuracy: 0.5397 - val_loss: 1.3704 - val_accuracy: 0.5254\n",
            "Epoch 8/30\n",
            "80/80 [==============================] - 0s 3ms/step - loss: 1.2895 - accuracy: 0.5549 - val_loss: 1.3190 - val_accuracy: 0.5520\n",
            "Epoch 9/30\n",
            "80/80 [==============================] - 0s 3ms/step - loss: 1.2424 - accuracy: 0.5729 - val_loss: 1.2860 - val_accuracy: 0.5691\n",
            "Epoch 10/30\n",
            "80/80 [==============================] - 0s 3ms/step - loss: 1.2102 - accuracy: 0.5803 - val_loss: 1.2809 - val_accuracy: 0.5658\n",
            "Epoch 11/30\n",
            "80/80 [==============================] - 0s 3ms/step - loss: 1.1814 - accuracy: 0.5875 - val_loss: 1.2343 - val_accuracy: 0.5921\n",
            "Epoch 12/30\n",
            "80/80 [==============================] - 0s 3ms/step - loss: 1.1494 - accuracy: 0.6012 - val_loss: 1.2040 - val_accuracy: 0.5938\n",
            "Epoch 13/30\n",
            "80/80 [==============================] - 0s 3ms/step - loss: 1.1253 - accuracy: 0.6076 - val_loss: 1.1949 - val_accuracy: 0.6029\n",
            "Epoch 14/30\n",
            "80/80 [==============================] - 0s 3ms/step - loss: 1.1036 - accuracy: 0.6141 - val_loss: 1.1664 - val_accuracy: 0.6099\n",
            "Epoch 15/30\n",
            "80/80 [==============================] - 0s 3ms/step - loss: 1.0822 - accuracy: 0.6209 - val_loss: 1.1441 - val_accuracy: 0.6220\n",
            "Epoch 16/30\n",
            "80/80 [==============================] - 0s 3ms/step - loss: 1.0634 - accuracy: 0.6300 - val_loss: 1.1380 - val_accuracy: 0.6124\n",
            "Epoch 17/30\n",
            "80/80 [==============================] - 0s 3ms/step - loss: 1.0462 - accuracy: 0.6346 - val_loss: 1.1144 - val_accuracy: 0.6328\n",
            "Epoch 18/30\n",
            "80/80 [==============================] - 0s 3ms/step - loss: 1.0290 - accuracy: 0.6430 - val_loss: 1.0959 - val_accuracy: 0.6405\n",
            "Epoch 19/30\n",
            "80/80 [==============================] - 0s 3ms/step - loss: 1.0148 - accuracy: 0.6488 - val_loss: 1.0860 - val_accuracy: 0.6295\n",
            "Epoch 20/30\n",
            "80/80 [==============================] - 0s 3ms/step - loss: 0.9985 - accuracy: 0.6576 - val_loss: 1.0748 - val_accuracy: 0.6474\n",
            "Epoch 21/30\n",
            "80/80 [==============================] - 0s 3ms/step - loss: 0.9848 - accuracy: 0.6615 - val_loss: 1.0671 - val_accuracy: 0.6506\n",
            "Epoch 22/30\n",
            "80/80 [==============================] - 0s 3ms/step - loss: 0.9729 - accuracy: 0.6669 - val_loss: 1.0376 - val_accuracy: 0.6591\n",
            "Epoch 23/30\n",
            "80/80 [==============================] - 0s 3ms/step - loss: 0.9560 - accuracy: 0.6782 - val_loss: 1.0393 - val_accuracy: 0.6525\n",
            "Epoch 24/30\n",
            "80/80 [==============================] - 0s 3ms/step - loss: 0.9434 - accuracy: 0.6836 - val_loss: 1.0239 - val_accuracy: 0.6730\n",
            "Epoch 25/30\n",
            "80/80 [==============================] - 0s 3ms/step - loss: 0.9302 - accuracy: 0.6889 - val_loss: 1.0159 - val_accuracy: 0.6877\n",
            "Epoch 26/30\n",
            "80/80 [==============================] - 0s 3ms/step - loss: 0.9188 - accuracy: 0.6954 - val_loss: 1.0087 - val_accuracy: 0.6845\n",
            "Epoch 27/30\n",
            "80/80 [==============================] - 0s 3ms/step - loss: 0.9060 - accuracy: 0.6991 - val_loss: 1.0018 - val_accuracy: 0.6830\n",
            "Epoch 28/30\n",
            "80/80 [==============================] - 0s 3ms/step - loss: 0.8973 - accuracy: 0.7050 - val_loss: 0.9849 - val_accuracy: 0.6981\n",
            "Epoch 29/30\n",
            "80/80 [==============================] - 0s 3ms/step - loss: 0.8881 - accuracy: 0.7099 - val_loss: 0.9758 - val_accuracy: 0.7000\n",
            "Epoch 30/30\n",
            "80/80 [==============================] - 0s 3ms/step - loss: 0.8747 - accuracy: 0.7169 - val_loss: 0.9675 - val_accuracy: 0.6824\n"
          ],
          "name": "stdout"
        }
      ]
    },
    {
      "cell_type": "code",
      "metadata": {
        "id": "wxHAKCU1rmKm",
        "colab_type": "code",
        "colab": {
          "base_uri": "https://localhost:8080/",
          "height": 1000
        },
        "outputId": "0bd60df3-dfdb-42d4-926a-d83be2d5dcf9"
      },
      "source": [
        "model = create_model()\n",
        "\n",
        "bt_small_16 = model.fit(X_train, \n",
        "                       y_train,\n",
        "                       epochs=30,\n",
        "                       batch_size=16,\n",
        "                       validation_data=(X_test, y_test)\n",
        ")"
      ],
      "execution_count": 15,
      "outputs": [
        {
          "output_type": "stream",
          "text": [
            "Epoch 1/30\n",
            "5000/5000 [==============================] - 10s 2ms/step - loss: 1.8030 - accuracy: 0.4461 - val_loss: 1.2878 - val_accuracy: 0.5663\n",
            "Epoch 2/30\n",
            "5000/5000 [==============================] - 10s 2ms/step - loss: 1.2022 - accuracy: 0.5896 - val_loss: 1.1577 - val_accuracy: 0.6213\n",
            "Epoch 3/30\n",
            "5000/5000 [==============================] - 10s 2ms/step - loss: 1.0804 - accuracy: 0.6364 - val_loss: 1.0580 - val_accuracy: 0.6532\n",
            "Epoch 4/30\n",
            "5000/5000 [==============================] - 10s 2ms/step - loss: 0.9772 - accuracy: 0.6860 - val_loss: 0.9229 - val_accuracy: 0.7024\n",
            "Epoch 5/30\n",
            "5000/5000 [==============================] - 10s 2ms/step - loss: 0.8780 - accuracy: 0.7261 - val_loss: 0.8737 - val_accuracy: 0.7366\n",
            "Epoch 6/30\n",
            "5000/5000 [==============================] - 10s 2ms/step - loss: 0.8242 - accuracy: 0.7503 - val_loss: 0.8294 - val_accuracy: 0.7506\n",
            "Epoch 7/30\n",
            "5000/5000 [==============================] - 10s 2ms/step - loss: 0.7992 - accuracy: 0.7586 - val_loss: 0.8275 - val_accuracy: 0.7562\n",
            "Epoch 8/30\n",
            "5000/5000 [==============================] - 10s 2ms/step - loss: 0.7850 - accuracy: 0.7625 - val_loss: 0.8040 - val_accuracy: 0.7563\n",
            "Epoch 9/30\n",
            "5000/5000 [==============================] - 10s 2ms/step - loss: 0.7737 - accuracy: 0.7672 - val_loss: 0.8366 - val_accuracy: 0.7538\n",
            "Epoch 10/30\n",
            "5000/5000 [==============================] - 10s 2ms/step - loss: 0.7685 - accuracy: 0.7678 - val_loss: 0.8279 - val_accuracy: 0.7453\n",
            "Epoch 11/30\n",
            "5000/5000 [==============================] - 10s 2ms/step - loss: 0.7630 - accuracy: 0.7698 - val_loss: 0.7882 - val_accuracy: 0.7707\n",
            "Epoch 12/30\n",
            "5000/5000 [==============================] - 10s 2ms/step - loss: 0.7557 - accuracy: 0.7738 - val_loss: 0.8235 - val_accuracy: 0.7559\n",
            "Epoch 13/30\n",
            "5000/5000 [==============================] - 10s 2ms/step - loss: 0.7491 - accuracy: 0.7754 - val_loss: 0.7958 - val_accuracy: 0.7646\n",
            "Epoch 14/30\n",
            "5000/5000 [==============================] - 11s 2ms/step - loss: 0.7485 - accuracy: 0.7754 - val_loss: 0.7935 - val_accuracy: 0.7624\n",
            "Epoch 15/30\n",
            "5000/5000 [==============================] - 11s 2ms/step - loss: 0.7448 - accuracy: 0.7787 - val_loss: 0.7924 - val_accuracy: 0.7691\n",
            "Epoch 16/30\n",
            "5000/5000 [==============================] - 10s 2ms/step - loss: 0.7422 - accuracy: 0.7792 - val_loss: 0.7869 - val_accuracy: 0.7687\n",
            "Epoch 17/30\n",
            "5000/5000 [==============================] - 10s 2ms/step - loss: 0.7412 - accuracy: 0.7800 - val_loss: 0.8036 - val_accuracy: 0.7715\n",
            "Epoch 18/30\n",
            "5000/5000 [==============================] - 10s 2ms/step - loss: 0.7412 - accuracy: 0.7811 - val_loss: 0.7996 - val_accuracy: 0.7727\n",
            "Epoch 19/30\n",
            "5000/5000 [==============================] - 10s 2ms/step - loss: 0.7345 - accuracy: 0.7825 - val_loss: 0.7863 - val_accuracy: 0.7658\n",
            "Epoch 20/30\n",
            "5000/5000 [==============================] - 10s 2ms/step - loss: 0.7328 - accuracy: 0.7830 - val_loss: 0.7901 - val_accuracy: 0.7724\n",
            "Epoch 21/30\n",
            "5000/5000 [==============================] - 10s 2ms/step - loss: 0.7329 - accuracy: 0.7827 - val_loss: 0.8083 - val_accuracy: 0.7704\n",
            "Epoch 22/30\n",
            "5000/5000 [==============================] - 10s 2ms/step - loss: 0.7283 - accuracy: 0.7858 - val_loss: 0.7860 - val_accuracy: 0.7713\n",
            "Epoch 23/30\n",
            "5000/5000 [==============================] - 10s 2ms/step - loss: 0.7296 - accuracy: 0.7849 - val_loss: 0.7939 - val_accuracy: 0.7750\n",
            "Epoch 24/30\n",
            "5000/5000 [==============================] - 10s 2ms/step - loss: 0.7276 - accuracy: 0.7860 - val_loss: 0.7910 - val_accuracy: 0.7674\n",
            "Epoch 25/30\n",
            "5000/5000 [==============================] - 10s 2ms/step - loss: 0.7290 - accuracy: 0.7842 - val_loss: 0.8229 - val_accuracy: 0.7624\n",
            "Epoch 26/30\n",
            "5000/5000 [==============================] - 10s 2ms/step - loss: 0.7240 - accuracy: 0.7861 - val_loss: 0.8003 - val_accuracy: 0.7712\n",
            "Epoch 27/30\n",
            "5000/5000 [==============================] - 10s 2ms/step - loss: 0.7230 - accuracy: 0.7861 - val_loss: 0.7970 - val_accuracy: 0.7696\n",
            "Epoch 28/30\n",
            "5000/5000 [==============================] - 10s 2ms/step - loss: 0.7210 - accuracy: 0.7885 - val_loss: 0.7891 - val_accuracy: 0.7666\n",
            "Epoch 29/30\n",
            "5000/5000 [==============================] - 10s 2ms/step - loss: 0.7220 - accuracy: 0.7877 - val_loss: 0.8087 - val_accuracy: 0.7714\n",
            "Epoch 30/30\n",
            "5000/5000 [==============================] - 10s 2ms/step - loss: 0.7221 - accuracy: 0.7872 - val_loss: 0.7915 - val_accuracy: 0.7749\n"
          ],
          "name": "stdout"
        }
      ]
    },
    {
      "cell_type": "code",
      "metadata": {
        "id": "NKAuAhGcoi6x",
        "colab_type": "code",
        "colab": {
          "base_uri": "https://localhost:8080/",
          "height": 236
        },
        "outputId": "5bd9a09f-11a9-4d99-de15-bac1ff3c6253"
      },
      "source": [
        "import seaborn as sns\n",
        "import pandas as pd\n",
        "\n",
        "batch_sizes = []\n",
        "\n",
        "for exp, result in zip([bt_default, bt_small, bt_large, bt_large_1000, bt_small_16], [\"32_\", \"8_\", \"512_\", \"1000_\", \"16_\"]):\n",
        "    df = pd.DataFrame.from_dict(exp.history)\n",
        "    df['epoch'] = df.index.values\n",
        "    df['Batch Size'] = result\n",
        "    batch_sizes.append(df)\n",
        "\n",
        "df = pd.concat(batch_sizes)\n",
        "df['Batch Size'] = df['Batch Size'].astype('str')\n",
        "df.head()"
      ],
      "execution_count": 16,
      "outputs": [
        {
          "output_type": "stream",
          "text": [
            "/usr/local/lib/python3.6/dist-packages/statsmodels/tools/_testing.py:19: FutureWarning: pandas.util.testing is deprecated. Use the functions in the public API at pandas.testing instead.\n",
            "  import pandas.util.testing as tm\n"
          ],
          "name": "stderr"
        },
        {
          "output_type": "execute_result",
          "data": {
            "text/html": [
              "<div>\n",
              "<style scoped>\n",
              "    .dataframe tbody tr th:only-of-type {\n",
              "        vertical-align: middle;\n",
              "    }\n",
              "\n",
              "    .dataframe tbody tr th {\n",
              "        vertical-align: top;\n",
              "    }\n",
              "\n",
              "    .dataframe thead th {\n",
              "        text-align: right;\n",
              "    }\n",
              "</style>\n",
              "<table border=\"1\" class=\"dataframe\">\n",
              "  <thead>\n",
              "    <tr style=\"text-align: right;\">\n",
              "      <th></th>\n",
              "      <th>loss</th>\n",
              "      <th>accuracy</th>\n",
              "      <th>val_loss</th>\n",
              "      <th>val_accuracy</th>\n",
              "      <th>epoch</th>\n",
              "      <th>Batch Size</th>\n",
              "    </tr>\n",
              "  </thead>\n",
              "  <tbody>\n",
              "    <tr>\n",
              "      <th>0</th>\n",
              "      <td>2.061635</td>\n",
              "      <td>0.395638</td>\n",
              "      <td>1.391887</td>\n",
              "      <td>0.48230</td>\n",
              "      <td>0</td>\n",
              "      <td>32_</td>\n",
              "    </tr>\n",
              "    <tr>\n",
              "      <th>1</th>\n",
              "      <td>1.284994</td>\n",
              "      <td>0.536788</td>\n",
              "      <td>1.243297</td>\n",
              "      <td>0.57730</td>\n",
              "      <td>1</td>\n",
              "      <td>32_</td>\n",
              "    </tr>\n",
              "    <tr>\n",
              "      <th>2</th>\n",
              "      <td>1.176879</td>\n",
              "      <td>0.598300</td>\n",
              "      <td>1.155328</td>\n",
              "      <td>0.61820</td>\n",
              "      <td>2</td>\n",
              "      <td>32_</td>\n",
              "    </tr>\n",
              "    <tr>\n",
              "      <th>3</th>\n",
              "      <td>1.127681</td>\n",
              "      <td>0.618988</td>\n",
              "      <td>1.123921</td>\n",
              "      <td>0.61875</td>\n",
              "      <td>3</td>\n",
              "      <td>32_</td>\n",
              "    </tr>\n",
              "    <tr>\n",
              "      <th>4</th>\n",
              "      <td>1.104294</td>\n",
              "      <td>0.624000</td>\n",
              "      <td>1.152002</td>\n",
              "      <td>0.61760</td>\n",
              "      <td>4</td>\n",
              "      <td>32_</td>\n",
              "    </tr>\n",
              "  </tbody>\n",
              "</table>\n",
              "</div>"
            ],
            "text/plain": [
              "       loss  accuracy  val_loss  val_accuracy  epoch Batch Size\n",
              "0  2.061635  0.395638  1.391887       0.48230      0        32_\n",
              "1  1.284994  0.536788  1.243297       0.57730      1        32_\n",
              "2  1.176879  0.598300  1.155328       0.61820      2        32_\n",
              "3  1.127681  0.618988  1.123921       0.61875      3        32_\n",
              "4  1.104294  0.624000  1.152002       0.61760      4        32_"
            ]
          },
          "metadata": {
            "tags": []
          },
          "execution_count": 16
        }
      ]
    },
    {
      "cell_type": "code",
      "metadata": {
        "id": "Zix6Fvw39Uui",
        "colab_type": "code",
        "colab": {
          "base_uri": "https://localhost:8080/",
          "height": 282
        },
        "outputId": "fa3f0ea0-56bd-4f41-e562-0cf8389c55c0"
      },
      "source": [
        "sns.lineplot(x='epoch', y='val_accuracy', hue='Batch Size', data=df);"
      ],
      "execution_count": 17,
      "outputs": [
        {
          "output_type": "display_data",
          "data": {
            "image/png": "[encoded data removed]",
            "text/plain": [
              "<Figure size 432x288 with 1 Axes>"
            ]
          },
          "metadata": {
            "tags": [],
            "needs_background": "light"
          }
        }
      ]
    },
    {
      "cell_type": "markdown",
      "metadata": {
        "colab_type": "text",
        "id": "8b-r70o8p2Dm"
      },
      "source": [
        "### Experiment with Learning Rate\n",
        "* Run 5 experiments with various learning rate magnitudes: 1, .1, .01, .001, .0001.\n",
        "* Use the \"best\" batch size from the previous experiment\n",
        "* Visualize the results\n",
        "* Write up an analysis of the experiments and select the \"best\" performing model among your experiments. Make sure to compare against the previous experiments and your model's performance yesterday. "
      ]
    },
    {
      "cell_type": "code",
      "metadata": {
        "id": "_SA144xx8Luf",
        "colab_type": "code",
        "colab": {
          "base_uri": "https://localhost:8080/",
          "height": 1000
        },
        "outputId": "dd93108d-26e6-4dde-9c74-7c023839a089"
      },
      "source": [
        "model = create_model(lr=1)\n",
        "\n",
        "bt_lr_1 = model.fit(X_train, \n",
        "                       y_train,\n",
        "                       epochs=30,\n",
        "                       batch_size=16,\n",
        "                       validation_data=(X_test, y_test)\n",
        ")"
      ],
      "execution_count": 25,
      "outputs": [
        {
          "output_type": "stream",
          "text": [
            "Epoch 1/30\n",
            "5000/5000 [==============================] - 10s 2ms/step - loss: 234.9316 - accuracy: 0.1001 - val_loss: 3.3072 - val_accuracy: 0.0988\n",
            "Epoch 2/30\n",
            "5000/5000 [==============================] - 10s 2ms/step - loss: 2.4684 - accuracy: 0.0981 - val_loss: 3.4562 - val_accuracy: 0.1003\n",
            "Epoch 3/30\n",
            "5000/5000 [==============================] - 10s 2ms/step - loss: 2.4722 - accuracy: 0.1002 - val_loss: 3.3663 - val_accuracy: 0.1006\n",
            "Epoch 4/30\n",
            "5000/5000 [==============================] - 10s 2ms/step - loss: 2.4634 - accuracy: 0.1001 - val_loss: 3.2514 - val_accuracy: 0.1001\n",
            "Epoch 5/30\n",
            "5000/5000 [==============================] - 10s 2ms/step - loss: 2.4625 - accuracy: 0.1001 - val_loss: 3.2409 - val_accuracy: 0.1003\n",
            "Epoch 6/30\n",
            "5000/5000 [==============================] - 10s 2ms/step - loss: 2.4648 - accuracy: 0.1009 - val_loss: 3.2567 - val_accuracy: 0.0988\n",
            "Epoch 7/30\n",
            "5000/5000 [==============================] - 10s 2ms/step - loss: 2.4693 - accuracy: 0.1019 - val_loss: 3.1946 - val_accuracy: 0.0988\n",
            "Epoch 8/30\n",
            "5000/5000 [==============================] - 10s 2ms/step - loss: 2.4662 - accuracy: 0.0986 - val_loss: 3.2304 - val_accuracy: 0.0971\n",
            "Epoch 9/30\n",
            "5000/5000 [==============================] - 10s 2ms/step - loss: 2.4677 - accuracy: 0.1001 - val_loss: 3.3748 - val_accuracy: 0.0984\n",
            "Epoch 10/30\n",
            "5000/5000 [==============================] - 10s 2ms/step - loss: 2.4675 - accuracy: 0.0985 - val_loss: 3.2070 - val_accuracy: 0.1010\n",
            "Epoch 11/30\n",
            "5000/5000 [==============================] - 10s 2ms/step - loss: 2.4689 - accuracy: 0.0985 - val_loss: 3.3246 - val_accuracy: 0.1010\n",
            "Epoch 12/30\n",
            "5000/5000 [==============================] - 10s 2ms/step - loss: 2.4659 - accuracy: 0.1001 - val_loss: 3.3207 - val_accuracy: 0.1001\n",
            "Epoch 13/30\n",
            "5000/5000 [==============================] - 10s 2ms/step - loss: 2.4627 - accuracy: 0.1006 - val_loss: 3.3867 - val_accuracy: 0.0984\n",
            "Epoch 14/30\n",
            "5000/5000 [==============================] - 10s 2ms/step - loss: 2.4656 - accuracy: 0.1004 - val_loss: 3.2924 - val_accuracy: 0.0988\n",
            "Epoch 15/30\n",
            "5000/5000 [==============================] - 10s 2ms/step - loss: 2.4680 - accuracy: 0.0999 - val_loss: 3.2153 - val_accuracy: 0.1003\n",
            "Epoch 16/30\n",
            "5000/5000 [==============================] - 10s 2ms/step - loss: 2.4680 - accuracy: 0.0997 - val_loss: 3.2871 - val_accuracy: 0.0986\n",
            "Epoch 17/30\n",
            "5000/5000 [==============================] - 10s 2ms/step - loss: 2.4634 - accuracy: 0.0997 - val_loss: 3.3856 - val_accuracy: 0.1010\n",
            "Epoch 18/30\n",
            "5000/5000 [==============================] - 10s 2ms/step - loss: 2.4669 - accuracy: 0.0976 - val_loss: 3.2523 - val_accuracy: 0.1049\n",
            "Epoch 19/30\n",
            "5000/5000 [==============================] - 10s 2ms/step - loss: 2.4685 - accuracy: 0.1004 - val_loss: 3.2139 - val_accuracy: 0.1006\n",
            "Epoch 20/30\n",
            "5000/5000 [==============================] - 10s 2ms/step - loss: 2.4603 - accuracy: 0.1005 - val_loss: 3.1835 - val_accuracy: 0.1001\n",
            "Epoch 21/30\n",
            "5000/5000 [==============================] - 10s 2ms/step - loss: 2.4669 - accuracy: 0.0971 - val_loss: 3.3713 - val_accuracy: 0.0986\n",
            "Epoch 22/30\n",
            "5000/5000 [==============================] - 10s 2ms/step - loss: 2.4616 - accuracy: 0.0995 - val_loss: 3.2847 - val_accuracy: 0.0986\n",
            "Epoch 23/30\n",
            "5000/5000 [==============================] - 10s 2ms/step - loss: 2.4643 - accuracy: 0.1015 - val_loss: 3.2993 - val_accuracy: 0.1049\n",
            "Epoch 24/30\n",
            "5000/5000 [==============================] - 10s 2ms/step - loss: 2.4669 - accuracy: 0.0997 - val_loss: 3.3531 - val_accuracy: 0.1001\n",
            "Epoch 25/30\n",
            "5000/5000 [==============================] - 11s 2ms/step - loss: 2.4632 - accuracy: 0.0997 - val_loss: 3.3030 - val_accuracy: 0.1006\n",
            "Epoch 26/30\n",
            "5000/5000 [==============================] - 11s 2ms/step - loss: 2.4624 - accuracy: 0.1017 - val_loss: 3.3711 - val_accuracy: 0.0971\n",
            "Epoch 27/30\n",
            "5000/5000 [==============================] - 10s 2ms/step - loss: 2.4703 - accuracy: 0.0997 - val_loss: 3.3177 - val_accuracy: 0.1003\n",
            "Epoch 28/30\n",
            "5000/5000 [==============================] - 10s 2ms/step - loss: 2.4714 - accuracy: 0.0984 - val_loss: 3.2962 - val_accuracy: 0.1001\n",
            "Epoch 29/30\n",
            "5000/5000 [==============================] - 10s 2ms/step - loss: 2.4642 - accuracy: 0.0985 - val_loss: 3.3980 - val_accuracy: 0.0971\n",
            "Epoch 30/30\n",
            "5000/5000 [==============================] - 10s 2ms/step - loss: 2.4668 - accuracy: 0.0995 - val_loss: 3.3492 - val_accuracy: 0.1010\n"
          ],
          "name": "stdout"
        }
      ]
    },
    {
      "cell_type": "code",
      "metadata": {
        "id": "KsjDl-wi9h3G",
        "colab_type": "code",
        "colab": {
          "base_uri": "https://localhost:8080/",
          "height": 1000
        },
        "outputId": "1386b403-6186-4459-b988-049069f3f6e4"
      },
      "source": [
        "model = create_model(lr=.1)\n",
        "\n",
        "bt_lr_0_1 = model.fit(X_train, \n",
        "                       y_train,\n",
        "                       epochs=30,\n",
        "                       batch_size=16,\n",
        "                       validation_data=(X_test, y_test)\n",
        ")"
      ],
      "execution_count": 26,
      "outputs": [
        {
          "output_type": "stream",
          "text": [
            "Epoch 1/30\n",
            "5000/5000 [==============================] - 10s 2ms/step - loss: 4.1904 - accuracy: 0.1015 - val_loss: 2.3126 - val_accuracy: 0.1001\n",
            "Epoch 2/30\n",
            "5000/5000 [==============================] - 10s 2ms/step - loss: 2.3223 - accuracy: 0.0997 - val_loss: 2.3195 - val_accuracy: 0.0971\n",
            "Epoch 3/30\n",
            "5000/5000 [==============================] - 10s 2ms/step - loss: 2.3209 - accuracy: 0.0994 - val_loss: 2.3234 - val_accuracy: 0.1001\n",
            "Epoch 4/30\n",
            "5000/5000 [==============================] - 10s 2ms/step - loss: 2.3200 - accuracy: 0.1000 - val_loss: 2.3178 - val_accuracy: 0.0988\n",
            "Epoch 5/30\n",
            "5000/5000 [==============================] - 10s 2ms/step - loss: 2.3219 - accuracy: 0.0985 - val_loss: 2.3264 - val_accuracy: 0.0986\n",
            "Epoch 6/30\n",
            "5000/5000 [==============================] - 10s 2ms/step - loss: 2.3207 - accuracy: 0.1004 - val_loss: 2.3192 - val_accuracy: 0.1010\n",
            "Epoch 7/30\n",
            "5000/5000 [==============================] - 10s 2ms/step - loss: 2.3211 - accuracy: 0.0991 - val_loss: 2.3244 - val_accuracy: 0.0986\n",
            "Epoch 8/30\n",
            "5000/5000 [==============================] - 10s 2ms/step - loss: 2.3205 - accuracy: 0.0998 - val_loss: 2.3222 - val_accuracy: 0.1010\n",
            "Epoch 9/30\n",
            "5000/5000 [==============================] - 10s 2ms/step - loss: 2.3199 - accuracy: 0.0997 - val_loss: 2.3144 - val_accuracy: 0.1049\n",
            "Epoch 10/30\n",
            "5000/5000 [==============================] - 10s 2ms/step - loss: 2.3206 - accuracy: 0.1005 - val_loss: 2.3290 - val_accuracy: 0.0971\n",
            "Epoch 11/30\n",
            "5000/5000 [==============================] - 10s 2ms/step - loss: 2.3202 - accuracy: 0.0997 - val_loss: 2.3402 - val_accuracy: 0.1001\n",
            "Epoch 12/30\n",
            "5000/5000 [==============================] - 10s 2ms/step - loss: 2.3210 - accuracy: 0.1008 - val_loss: 2.3232 - val_accuracy: 0.0971\n",
            "Epoch 13/30\n",
            "5000/5000 [==============================] - 10s 2ms/step - loss: 2.3208 - accuracy: 0.0996 - val_loss: 2.3180 - val_accuracy: 0.0984\n",
            "Epoch 14/30\n",
            "5000/5000 [==============================] - 10s 2ms/step - loss: 2.3203 - accuracy: 0.1012 - val_loss: 2.3418 - val_accuracy: 0.1002\n",
            "Epoch 15/30\n",
            "5000/5000 [==============================] - 10s 2ms/step - loss: 2.3217 - accuracy: 0.0985 - val_loss: 2.3228 - val_accuracy: 0.1001\n",
            "Epoch 16/30\n",
            "5000/5000 [==============================] - 10s 2ms/step - loss: 2.3214 - accuracy: 0.0988 - val_loss: 2.3277 - val_accuracy: 0.1049\n",
            "Epoch 17/30\n",
            "5000/5000 [==============================] - 10s 2ms/step - loss: 2.3202 - accuracy: 0.1002 - val_loss: 2.3259 - val_accuracy: 0.1003\n",
            "Epoch 18/30\n",
            "5000/5000 [==============================] - 10s 2ms/step - loss: 2.3212 - accuracy: 0.0991 - val_loss: 2.3183 - val_accuracy: 0.0988\n",
            "Epoch 19/30\n",
            "5000/5000 [==============================] - 10s 2ms/step - loss: 2.3210 - accuracy: 0.1004 - val_loss: 2.3235 - val_accuracy: 0.0984\n",
            "Epoch 20/30\n",
            "5000/5000 [==============================] - 10s 2ms/step - loss: 2.3207 - accuracy: 0.1008 - val_loss: 2.3259 - val_accuracy: 0.1010\n",
            "Epoch 21/30\n",
            "5000/5000 [==============================] - 10s 2ms/step - loss: 2.3214 - accuracy: 0.1003 - val_loss: 2.3087 - val_accuracy: 0.0971\n",
            "Epoch 22/30\n",
            "5000/5000 [==============================] - 10s 2ms/step - loss: 2.3203 - accuracy: 0.1003 - val_loss: 2.3130 - val_accuracy: 0.1049\n",
            "Epoch 23/30\n",
            "5000/5000 [==============================] - 10s 2ms/step - loss: 2.3218 - accuracy: 0.0991 - val_loss: 2.3205 - val_accuracy: 0.0988\n",
            "Epoch 24/30\n",
            "5000/5000 [==============================] - 10s 2ms/step - loss: 2.3215 - accuracy: 0.0984 - val_loss: 2.3308 - val_accuracy: 0.1049\n",
            "Epoch 25/30\n",
            "5000/5000 [==============================] - 10s 2ms/step - loss: 2.3211 - accuracy: 0.0994 - val_loss: 2.3173 - val_accuracy: 0.1002\n",
            "Epoch 26/30\n",
            "5000/5000 [==============================] - 10s 2ms/step - loss: 2.3209 - accuracy: 0.0988 - val_loss: 2.3127 - val_accuracy: 0.1002\n",
            "Epoch 27/30\n",
            "5000/5000 [==============================] - 11s 2ms/step - loss: 2.3207 - accuracy: 0.0998 - val_loss: 2.3189 - val_accuracy: 0.1003\n",
            "Epoch 28/30\n",
            "5000/5000 [==============================] - 10s 2ms/step - loss: 2.3217 - accuracy: 0.0992 - val_loss: 2.3110 - val_accuracy: 0.0984\n",
            "Epoch 29/30\n",
            "5000/5000 [==============================] - 10s 2ms/step - loss: 2.3210 - accuracy: 0.0987 - val_loss: 2.3236 - val_accuracy: 0.1002\n",
            "Epoch 30/30\n",
            "5000/5000 [==============================] - 10s 2ms/step - loss: 2.3203 - accuracy: 0.1004 - val_loss: 2.3100 - val_accuracy: 0.1010\n"
          ],
          "name": "stdout"
        }
      ]
    },
    {
      "cell_type": "code",
      "metadata": {
        "id": "adAxY-I_9h7H",
        "colab_type": "code",
        "colab": {
          "base_uri": "https://localhost:8080/",
          "height": 1000
        },
        "outputId": "af09c8fb-6ce1-4290-de4a-67c9ba7c8de2"
      },
      "source": [
        "model = create_model(lr=.01)\n",
        "\n",
        "bt_lr_0_0_1 = model.fit(X_train, \n",
        "                       y_train,\n",
        "                       epochs=30,\n",
        "                       batch_size=16,\n",
        "                       validation_data=(X_test, y_test)\n",
        ")"
      ],
      "execution_count": 27,
      "outputs": [
        {
          "output_type": "stream",
          "text": [
            "Epoch 1/30\n",
            "5000/5000 [==============================] - 10s 2ms/step - loss: 2.1861 - accuracy: 0.2126 - val_loss: 2.0065 - val_accuracy: 0.1894\n",
            "Epoch 2/30\n",
            "5000/5000 [==============================] - 10s 2ms/step - loss: 2.0192 - accuracy: 0.1856 - val_loss: 2.0184 - val_accuracy: 0.1920\n",
            "Epoch 3/30\n",
            "5000/5000 [==============================] - 10s 2ms/step - loss: 2.0495 - accuracy: 0.1806 - val_loss: 2.0155 - val_accuracy: 0.1898\n",
            "Epoch 4/30\n",
            "5000/5000 [==============================] - 10s 2ms/step - loss: 1.9976 - accuracy: 0.1876 - val_loss: 1.9985 - val_accuracy: 0.1768\n",
            "Epoch 5/30\n",
            "5000/5000 [==============================] - 10s 2ms/step - loss: 2.0059 - accuracy: 0.1859 - val_loss: 1.9951 - val_accuracy: 0.1895\n",
            "Epoch 6/30\n",
            "5000/5000 [==============================] - 10s 2ms/step - loss: 1.9927 - accuracy: 0.1902 - val_loss: 1.9911 - val_accuracy: 0.1902\n",
            "Epoch 7/30\n",
            "5000/5000 [==============================] - 10s 2ms/step - loss: 1.9969 - accuracy: 0.1876 - val_loss: 1.9979 - val_accuracy: 0.1889\n",
            "Epoch 8/30\n",
            "5000/5000 [==============================] - 10s 2ms/step - loss: 2.0029 - accuracy: 0.1894 - val_loss: 2.0002 - val_accuracy: 0.1907\n",
            "Epoch 9/30\n",
            "5000/5000 [==============================] - 10s 2ms/step - loss: 2.0026 - accuracy: 0.1897 - val_loss: 1.9992 - val_accuracy: 0.1933\n",
            "Epoch 10/30\n",
            "5000/5000 [==============================] - 10s 2ms/step - loss: 2.0031 - accuracy: 0.1880 - val_loss: 2.0004 - val_accuracy: 0.1907\n",
            "Epoch 11/30\n",
            "5000/5000 [==============================] - 10s 2ms/step - loss: 2.0029 - accuracy: 0.1908 - val_loss: 2.0004 - val_accuracy: 0.1917\n",
            "Epoch 12/30\n",
            "5000/5000 [==============================] - 10s 2ms/step - loss: 2.0027 - accuracy: 0.1896 - val_loss: 1.9982 - val_accuracy: 0.1811\n",
            "Epoch 13/30\n",
            "5000/5000 [==============================] - 10s 2ms/step - loss: 2.0025 - accuracy: 0.1907 - val_loss: 2.0008 - val_accuracy: 0.1917\n",
            "Epoch 14/30\n",
            "5000/5000 [==============================] - 10s 2ms/step - loss: 2.0029 - accuracy: 0.1886 - val_loss: 2.0000 - val_accuracy: 0.1917\n",
            "Epoch 15/30\n",
            "5000/5000 [==============================] - 10s 2ms/step - loss: 2.0026 - accuracy: 0.1896 - val_loss: 2.0005 - val_accuracy: 0.1866\n",
            "Epoch 16/30\n",
            "5000/5000 [==============================] - 10s 2ms/step - loss: 2.0023 - accuracy: 0.1912 - val_loss: 1.9995 - val_accuracy: 0.1907\n",
            "Epoch 17/30\n",
            "5000/5000 [==============================] - 10s 2ms/step - loss: 2.0026 - accuracy: 0.1890 - val_loss: 1.9980 - val_accuracy: 0.1917\n",
            "Epoch 18/30\n",
            "5000/5000 [==============================] - 10s 2ms/step - loss: 2.0025 - accuracy: 0.1899 - val_loss: 2.0028 - val_accuracy: 0.1793\n",
            "Epoch 19/30\n",
            "5000/5000 [==============================] - 10s 2ms/step - loss: 2.0026 - accuracy: 0.1901 - val_loss: 1.9986 - val_accuracy: 0.1886\n",
            "Epoch 20/30\n",
            "5000/5000 [==============================] - 10s 2ms/step - loss: 2.0023 - accuracy: 0.1912 - val_loss: 2.0018 - val_accuracy: 0.1866\n",
            "Epoch 21/30\n",
            "5000/5000 [==============================] - 10s 2ms/step - loss: 2.0028 - accuracy: 0.1910 - val_loss: 2.0050 - val_accuracy: 0.1917\n",
            "Epoch 22/30\n",
            "5000/5000 [==============================] - 10s 2ms/step - loss: 2.0026 - accuracy: 0.1893 - val_loss: 1.9992 - val_accuracy: 0.1902\n",
            "Epoch 23/30\n",
            "5000/5000 [==============================] - 10s 2ms/step - loss: 2.0024 - accuracy: 0.1889 - val_loss: 1.9992 - val_accuracy: 0.1886\n",
            "Epoch 24/30\n",
            "5000/5000 [==============================] - 10s 2ms/step - loss: 2.0023 - accuracy: 0.1899 - val_loss: 1.9986 - val_accuracy: 0.1917\n",
            "Epoch 25/30\n",
            "5000/5000 [==============================] - 10s 2ms/step - loss: 2.0024 - accuracy: 0.1905 - val_loss: 2.0042 - val_accuracy: 0.1907\n",
            "Epoch 26/30\n",
            "5000/5000 [==============================] - 10s 2ms/step - loss: 2.0026 - accuracy: 0.1885 - val_loss: 2.0036 - val_accuracy: 0.1933\n",
            "Epoch 27/30\n",
            "5000/5000 [==============================] - 10s 2ms/step - loss: 2.0025 - accuracy: 0.1899 - val_loss: 1.9985 - val_accuracy: 0.1933\n",
            "Epoch 28/30\n",
            "5000/5000 [==============================] - 10s 2ms/step - loss: 2.0021 - accuracy: 0.1902 - val_loss: 2.0084 - val_accuracy: 0.1806\n",
            "Epoch 29/30\n",
            "5000/5000 [==============================] - 11s 2ms/step - loss: 2.0024 - accuracy: 0.1898 - val_loss: 2.0018 - val_accuracy: 0.1902\n",
            "Epoch 30/30\n",
            "5000/5000 [==============================] - 10s 2ms/step - loss: 2.0026 - accuracy: 0.1893 - val_loss: 2.0006 - val_accuracy: 0.1811\n"
          ],
          "name": "stdout"
        }
      ]
    },
    {
      "cell_type": "code",
      "metadata": {
        "id": "_hkRer9_9iSD",
        "colab_type": "code",
        "colab": {
          "base_uri": "https://localhost:8080/",
          "height": 1000
        },
        "outputId": "45849d52-4512-400d-ac3f-7e1f3ce9f201"
      },
      "source": [
        "model = create_model(lr=.001)\n",
        "\n",
        "bt_lr_0_0_0_1 = model.fit(X_train, \n",
        "                       y_train,\n",
        "                       epochs=30,\n",
        "                       batch_size=16,\n",
        "                       validation_data=(X_test, y_test)\n",
        ")"
      ],
      "execution_count": 28,
      "outputs": [
        {
          "output_type": "stream",
          "text": [
            "Epoch 1/30\n",
            "5000/5000 [==============================] - 10s 2ms/step - loss: 1.8481 - accuracy: 0.4821 - val_loss: 1.2306 - val_accuracy: 0.6016\n",
            "Epoch 2/30\n",
            "5000/5000 [==============================] - 10s 2ms/step - loss: 1.1635 - accuracy: 0.6137 - val_loss: 1.2132 - val_accuracy: 0.6118\n",
            "Epoch 3/30\n",
            "5000/5000 [==============================] - 10s 2ms/step - loss: 1.0416 - accuracy: 0.6501 - val_loss: 1.0220 - val_accuracy: 0.6485\n",
            "Epoch 4/30\n",
            "5000/5000 [==============================] - 10s 2ms/step - loss: 0.9570 - accuracy: 0.6831 - val_loss: 0.9404 - val_accuracy: 0.7013\n",
            "Epoch 5/30\n",
            "5000/5000 [==============================] - 10s 2ms/step - loss: 0.8918 - accuracy: 0.7117 - val_loss: 0.9034 - val_accuracy: 0.7063\n",
            "Epoch 6/30\n",
            "5000/5000 [==============================] - 10s 2ms/step - loss: 0.8554 - accuracy: 0.7232 - val_loss: 0.8789 - val_accuracy: 0.7230\n",
            "Epoch 7/30\n",
            "5000/5000 [==============================] - 10s 2ms/step - loss: 0.8364 - accuracy: 0.7311 - val_loss: 0.8527 - val_accuracy: 0.7298\n",
            "Epoch 8/30\n",
            "5000/5000 [==============================] - 10s 2ms/step - loss: 0.8169 - accuracy: 0.7381 - val_loss: 0.8356 - val_accuracy: 0.7382\n",
            "Epoch 9/30\n",
            "5000/5000 [==============================] - 10s 2ms/step - loss: 0.8055 - accuracy: 0.7438 - val_loss: 0.8311 - val_accuracy: 0.7401\n",
            "Epoch 10/30\n",
            "5000/5000 [==============================] - 10s 2ms/step - loss: 0.7988 - accuracy: 0.7459 - val_loss: 0.8068 - val_accuracy: 0.7494\n",
            "Epoch 11/30\n",
            "5000/5000 [==============================] - 10s 2ms/step - loss: 0.7779 - accuracy: 0.7532 - val_loss: 0.7955 - val_accuracy: 0.7526\n",
            "Epoch 12/30\n",
            "5000/5000 [==============================] - 10s 2ms/step - loss: 0.7699 - accuracy: 0.7572 - val_loss: 0.8169 - val_accuracy: 0.7454\n",
            "Epoch 13/30\n",
            "5000/5000 [==============================] - 10s 2ms/step - loss: 0.7605 - accuracy: 0.7631 - val_loss: 0.8118 - val_accuracy: 0.7613\n",
            "Epoch 14/30\n",
            "5000/5000 [==============================] - 10s 2ms/step - loss: 0.7505 - accuracy: 0.7662 - val_loss: 0.7918 - val_accuracy: 0.7598\n",
            "Epoch 15/30\n",
            "5000/5000 [==============================] - 10s 2ms/step - loss: 0.7466 - accuracy: 0.7670 - val_loss: 0.7816 - val_accuracy: 0.7610\n",
            "Epoch 16/30\n",
            "5000/5000 [==============================] - 10s 2ms/step - loss: 0.7397 - accuracy: 0.7683 - val_loss: 0.7840 - val_accuracy: 0.7588\n",
            "Epoch 17/30\n",
            "5000/5000 [==============================] - 10s 2ms/step - loss: 0.7292 - accuracy: 0.7706 - val_loss: 0.7861 - val_accuracy: 0.7623\n",
            "Epoch 18/30\n",
            "5000/5000 [==============================] - 10s 2ms/step - loss: 0.7139 - accuracy: 0.7746 - val_loss: 0.7703 - val_accuracy: 0.7720\n",
            "Epoch 19/30\n",
            "5000/5000 [==============================] - 10s 2ms/step - loss: 0.7101 - accuracy: 0.7797 - val_loss: 0.7532 - val_accuracy: 0.7728\n",
            "Epoch 20/30\n",
            "5000/5000 [==============================] - 10s 2ms/step - loss: 0.7054 - accuracy: 0.7832 - val_loss: 0.7711 - val_accuracy: 0.7689\n",
            "Epoch 21/30\n",
            "5000/5000 [==============================] - 10s 2ms/step - loss: 0.7006 - accuracy: 0.7872 - val_loss: 0.7510 - val_accuracy: 0.7863\n",
            "Epoch 22/30\n",
            "5000/5000 [==============================] - 10s 2ms/step - loss: 0.6922 - accuracy: 0.7902 - val_loss: 0.7547 - val_accuracy: 0.7810\n",
            "Epoch 23/30\n",
            "5000/5000 [==============================] - 10s 2ms/step - loss: 0.6902 - accuracy: 0.7921 - val_loss: 0.7492 - val_accuracy: 0.7800\n",
            "Epoch 24/30\n",
            "5000/5000 [==============================] - 10s 2ms/step - loss: 0.6868 - accuracy: 0.7932 - val_loss: 0.7466 - val_accuracy: 0.7839\n",
            "Epoch 25/30\n",
            "5000/5000 [==============================] - 10s 2ms/step - loss: 0.6835 - accuracy: 0.7938 - val_loss: 0.7528 - val_accuracy: 0.7852\n",
            "Epoch 26/30\n",
            "5000/5000 [==============================] - 10s 2ms/step - loss: 0.6828 - accuracy: 0.7948 - val_loss: 0.7412 - val_accuracy: 0.7864\n",
            "Epoch 27/30\n",
            "5000/5000 [==============================] - 10s 2ms/step - loss: 0.6788 - accuracy: 0.7958 - val_loss: 0.7749 - val_accuracy: 0.7780\n",
            "Epoch 28/30\n",
            "5000/5000 [==============================] - 10s 2ms/step - loss: 0.6806 - accuracy: 0.7960 - val_loss: 0.7408 - val_accuracy: 0.7832\n",
            "Epoch 29/30\n",
            "5000/5000 [==============================] - 10s 2ms/step - loss: 0.6756 - accuracy: 0.7980 - val_loss: 0.7446 - val_accuracy: 0.7884\n",
            "Epoch 30/30\n",
            "5000/5000 [==============================] - 11s 2ms/step - loss: 0.6748 - accuracy: 0.7982 - val_loss: 0.7495 - val_accuracy: 0.7839\n"
          ],
          "name": "stdout"
        }
      ]
    },
    {
      "cell_type": "code",
      "metadata": {
        "id": "VPNQC-Q79iWT",
        "colab_type": "code",
        "colab": {
          "base_uri": "https://localhost:8080/",
          "height": 1000
        },
        "outputId": "06dd4744-8130-4cec-a409-fe2ebe1623a9"
      },
      "source": [
        "model = create_model(lr=.0001)\n",
        "\n",
        "bt_lr_0_0_0_0_1 = model.fit(X_train, \n",
        "                       y_train,\n",
        "                       epochs=30,\n",
        "                       batch_size=16,\n",
        "                       validation_data=(X_test, y_test)\n",
        ")"
      ],
      "execution_count": 29,
      "outputs": [
        {
          "output_type": "stream",
          "text": [
            "Epoch 1/30\n",
            "5000/5000 [==============================] - 11s 2ms/step - loss: 5.2257 - accuracy: 0.2902 - val_loss: 1.7780 - val_accuracy: 0.3839\n",
            "Epoch 2/30\n",
            "5000/5000 [==============================] - 10s 2ms/step - loss: 1.5605 - accuracy: 0.4579 - val_loss: 1.4053 - val_accuracy: 0.5288\n",
            "Epoch 3/30\n",
            "5000/5000 [==============================] - 10s 2ms/step - loss: 1.2536 - accuracy: 0.5970 - val_loss: 1.2168 - val_accuracy: 0.6162\n",
            "Epoch 4/30\n",
            "5000/5000 [==============================] - 10s 2ms/step - loss: 1.0961 - accuracy: 0.6591 - val_loss: 1.0943 - val_accuracy: 0.6707\n",
            "Epoch 5/30\n",
            "5000/5000 [==============================] - 10s 2ms/step - loss: 1.0038 - accuracy: 0.6876 - val_loss: 1.0275 - val_accuracy: 0.6948\n",
            "Epoch 6/30\n",
            "5000/5000 [==============================] - 10s 2ms/step - loss: 0.9496 - accuracy: 0.7053 - val_loss: 0.9907 - val_accuracy: 0.7061\n",
            "Epoch 7/30\n",
            "5000/5000 [==============================] - 10s 2ms/step - loss: 0.9121 - accuracy: 0.7173 - val_loss: 0.9730 - val_accuracy: 0.7096\n",
            "Epoch 8/30\n",
            "5000/5000 [==============================] - 10s 2ms/step - loss: 0.8855 - accuracy: 0.7246 - val_loss: 0.9506 - val_accuracy: 0.7150\n",
            "Epoch 9/30\n",
            "5000/5000 [==============================] - 10s 2ms/step - loss: 0.8610 - accuracy: 0.7290 - val_loss: 0.9408 - val_accuracy: 0.7189\n",
            "Epoch 10/30\n",
            "5000/5000 [==============================] - 10s 2ms/step - loss: 0.8413 - accuracy: 0.7343 - val_loss: 0.9125 - val_accuracy: 0.7236\n",
            "Epoch 11/30\n",
            "5000/5000 [==============================] - 10s 2ms/step - loss: 0.8246 - accuracy: 0.7396 - val_loss: 0.9271 - val_accuracy: 0.7181\n",
            "Epoch 12/30\n",
            "5000/5000 [==============================] - 10s 2ms/step - loss: 0.8109 - accuracy: 0.7436 - val_loss: 0.9002 - val_accuracy: 0.7236\n",
            "Epoch 13/30\n",
            "5000/5000 [==============================] - 10s 2ms/step - loss: 0.7976 - accuracy: 0.7471 - val_loss: 0.8859 - val_accuracy: 0.7336\n",
            "Epoch 14/30\n",
            "5000/5000 [==============================] - 10s 2ms/step - loss: 0.7866 - accuracy: 0.7509 - val_loss: 0.8886 - val_accuracy: 0.7324\n",
            "Epoch 15/30\n",
            "5000/5000 [==============================] - 10s 2ms/step - loss: 0.7760 - accuracy: 0.7550 - val_loss: 0.8853 - val_accuracy: 0.7394\n",
            "Epoch 16/30\n",
            "5000/5000 [==============================] - 10s 2ms/step - loss: 0.7703 - accuracy: 0.7553 - val_loss: 0.8794 - val_accuracy: 0.7393\n",
            "Epoch 17/30\n",
            "5000/5000 [==============================] - 10s 2ms/step - loss: 0.7638 - accuracy: 0.7575 - val_loss: 0.8935 - val_accuracy: 0.7434\n",
            "Epoch 18/30\n",
            "5000/5000 [==============================] - 10s 2ms/step - loss: 0.7560 - accuracy: 0.7612 - val_loss: 0.8670 - val_accuracy: 0.7441\n",
            "Epoch 19/30\n",
            "5000/5000 [==============================] - 10s 2ms/step - loss: 0.7469 - accuracy: 0.7648 - val_loss: 0.8755 - val_accuracy: 0.7516\n",
            "Epoch 20/30\n",
            "5000/5000 [==============================] - 10s 2ms/step - loss: 0.7393 - accuracy: 0.7684 - val_loss: 0.8581 - val_accuracy: 0.7577\n",
            "Epoch 21/30\n",
            "5000/5000 [==============================] - 10s 2ms/step - loss: 0.7294 - accuracy: 0.7730 - val_loss: 0.8744 - val_accuracy: 0.7577\n",
            "Epoch 22/30\n",
            "5000/5000 [==============================] - 10s 2ms/step - loss: 0.7170 - accuracy: 0.7792 - val_loss: 0.8574 - val_accuracy: 0.7627\n",
            "Epoch 23/30\n",
            "5000/5000 [==============================] - 10s 2ms/step - loss: 0.7072 - accuracy: 0.7830 - val_loss: 0.8457 - val_accuracy: 0.7641\n",
            "Epoch 24/30\n",
            "5000/5000 [==============================] - 10s 2ms/step - loss: 0.7012 - accuracy: 0.7868 - val_loss: 0.8596 - val_accuracy: 0.7682\n",
            "Epoch 25/30\n",
            "5000/5000 [==============================] - 10s 2ms/step - loss: 0.6930 - accuracy: 0.7900 - val_loss: 0.8569 - val_accuracy: 0.7549\n",
            "Epoch 26/30\n",
            "5000/5000 [==============================] - 10s 2ms/step - loss: 0.6868 - accuracy: 0.7907 - val_loss: 0.8375 - val_accuracy: 0.7682\n",
            "Epoch 27/30\n",
            "5000/5000 [==============================] - 10s 2ms/step - loss: 0.6818 - accuracy: 0.7940 - val_loss: 0.8417 - val_accuracy: 0.7661\n",
            "Epoch 28/30\n",
            "5000/5000 [==============================] - 10s 2ms/step - loss: 0.6738 - accuracy: 0.7958 - val_loss: 0.8304 - val_accuracy: 0.7754\n",
            "Epoch 29/30\n",
            "5000/5000 [==============================] - 10s 2ms/step - loss: 0.6693 - accuracy: 0.7973 - val_loss: 0.8211 - val_accuracy: 0.7743\n",
            "Epoch 30/30\n",
            "5000/5000 [==============================] - 10s 2ms/step - loss: 0.6617 - accuracy: 0.7988 - val_loss: 0.8329 - val_accuracy: 0.7725\n"
          ],
          "name": "stdout"
        }
      ]
    },
    {
      "cell_type": "code",
      "metadata": {
        "id": "g1rkhjAp-bdI",
        "colab_type": "code",
        "colab": {
          "base_uri": "https://localhost:8080/",
          "height": 201
        },
        "outputId": "40eb5f52-1bf2-4037-f299-f0c191e44190"
      },
      "source": [
        "for exp, result in zip([bt_lr_1, bt_lr_0_1, bt_lr_0_0_1, bt_lr_0_0_0_1, bt_lr_0_0_0_0_1], [\"1_\", \".1_\", \".01_\", \".001_\", \".0001_\"]):\n",
        "    df = pd.DataFrame.from_dict(exp.history)\n",
        "    df['epoch'] = df.index.values\n",
        "    df['Learning Rate'] = result\n",
        "    batch_sizes.append(df)\n",
        "\n",
        "df = pd.concat(batch_sizes)\n",
        "df['Learning Rate'] = df['Learning Rate'].astype('str')\n",
        "df.head()"
      ],
      "execution_count": 31,
      "outputs": [
        {
          "output_type": "execute_result",
          "data": {
            "text/html": [
              "<div>\n",
              "<style scoped>\n",
              "    .dataframe tbody tr th:only-of-type {\n",
              "        vertical-align: middle;\n",
              "    }\n",
              "\n",
              "    .dataframe tbody tr th {\n",
              "        vertical-align: top;\n",
              "    }\n",
              "\n",
              "    .dataframe thead th {\n",
              "        text-align: right;\n",
              "    }\n",
              "</style>\n",
              "<table border=\"1\" class=\"dataframe\">\n",
              "  <thead>\n",
              "    <tr style=\"text-align: right;\">\n",
              "      <th></th>\n",
              "      <th>loss</th>\n",
              "      <th>accuracy</th>\n",
              "      <th>val_loss</th>\n",
              "      <th>val_accuracy</th>\n",
              "      <th>epoch</th>\n",
              "      <th>Batch Size</th>\n",
              "      <th>Learning Rate</th>\n",
              "    </tr>\n",
              "  </thead>\n",
              "  <tbody>\n",
              "    <tr>\n",
              "      <th>0</th>\n",
              "      <td>2.061635</td>\n",
              "      <td>0.395638</td>\n",
              "      <td>1.391887</td>\n",
              "      <td>0.48230</td>\n",
              "      <td>0</td>\n",
              "      <td>32_</td>\n",
              "      <td>nan</td>\n",
              "    </tr>\n",
              "    <tr>\n",
              "      <th>1</th>\n",
              "      <td>1.284994</td>\n",
              "      <td>0.536788</td>\n",
              "      <td>1.243297</td>\n",
              "      <td>0.57730</td>\n",
              "      <td>1</td>\n",
              "      <td>32_</td>\n",
              "      <td>nan</td>\n",
              "    </tr>\n",
              "    <tr>\n",
              "      <th>2</th>\n",
              "      <td>1.176879</td>\n",
              "      <td>0.598300</td>\n",
              "      <td>1.155328</td>\n",
              "      <td>0.61820</td>\n",
              "      <td>2</td>\n",
              "      <td>32_</td>\n",
              "      <td>nan</td>\n",
              "    </tr>\n",
              "    <tr>\n",
              "      <th>3</th>\n",
              "      <td>1.127681</td>\n",
              "      <td>0.618988</td>\n",
              "      <td>1.123921</td>\n",
              "      <td>0.61875</td>\n",
              "      <td>3</td>\n",
              "      <td>32_</td>\n",
              "      <td>nan</td>\n",
              "    </tr>\n",
              "    <tr>\n",
              "      <th>4</th>\n",
              "      <td>1.104294</td>\n",
              "      <td>0.624000</td>\n",
              "      <td>1.152002</td>\n",
              "      <td>0.61760</td>\n",
              "      <td>4</td>\n",
              "      <td>32_</td>\n",
              "      <td>nan</td>\n",
              "    </tr>\n",
              "  </tbody>\n",
              "</table>\n",
              "</div>"
            ],
            "text/plain": [
              "       loss  accuracy  val_loss  val_accuracy  epoch Batch Size Learning Rate\n",
              "0  2.061635  0.395638  1.391887       0.48230      0        32_           nan\n",
              "1  1.284994  0.536788  1.243297       0.57730      1        32_           nan\n",
              "2  1.176879  0.598300  1.155328       0.61820      2        32_           nan\n",
              "3  1.127681  0.618988  1.123921       0.61875      3        32_           nan\n",
              "4  1.104294  0.624000  1.152002       0.61760      4        32_           nan"
            ]
          },
          "metadata": {
            "tags": []
          },
          "execution_count": 31
        }
      ]
    },
    {
      "cell_type": "code",
      "metadata": {
        "id": "l0tl2spO-9Ad",
        "colab_type": "code",
        "colab": {
          "base_uri": "https://localhost:8080/",
          "height": 281
        },
        "outputId": "c883d3a3-0efa-4745-95ca-667ee82dd4c5"
      },
      "source": [
        "sns.lineplot(x='epoch', y='val_accuracy', hue='Learning Rate', data=df);"
      ],
      "execution_count": 30,
      "outputs": [
        {
          "output_type": "display_data",
          "data": {
            "image/png": "[encoded data removed]",
            "text/plain": [
              "<Figure size 432x288 with 1 Axes>"
            ]
          },
          "metadata": {
            "tags": [],
            "needs_background": "light"
          }
        }
      ]
    },
    {
      "cell_type": "markdown",
      "metadata": {
        "id": "gxMtSRhV9Q7I",
        "colab_type": "text"
      },
      "source": [
        "### Experiment with different Optimizers\n",
        "* Run 5 experiments with various optimizers available in TensorFlow. See list [here](https://www.tensorflow.org/api_docs/python/tf/keras/optimizers)\n",
        "* Visualize the results\n",
        "* Write up an analysis of the experiments and select the \"best\" performing model among your experiments. Make sure to compare against the previous experiments and your model's performance yesterday.\n",
        "* Repeat the experiment combining Learning Rate and different optimizers. Does the best performing model change? "
      ]
    },
    {
      "cell_type": "code",
      "metadata": {
        "id": "nYY_t7WbFuuN",
        "colab_type": "code",
        "colab": {
          "base_uri": "https://localhost:8080/",
          "height": 1000
        },
        "outputId": "6ba89d25-3b8f-44fc-ec5d-10d74700d64e"
      },
      "source": [
        "from tensorflow.keras.optimizers import SGD\n",
        "from tensorflow.keras.optimizers import Adadelta\n",
        "from tensorflow.keras.optimizers import Adagrad\n",
        "from tensorflow.keras.optimizers import Adamax\n",
        "from tensorflow.keras.optimizers import Ftrl\n",
        "def create_model2(lr=0.001):\n",
        "  opt = SGD(learning_rate=lr)\n",
        "  model = Sequential([\n",
        "                      Dense(32, activation='relu', input_dim=784),\n",
        "                      Dense(32, activation='relu'),\n",
        "                      Dense(10, activation='softmax')\n",
        "  ])\n",
        "  model.compile(optimizer=opt,\n",
        "                loss='sparse_categorical_crossentropy',\n",
        "                metrics=['accuracy'])\n",
        "  return model\n",
        "\n",
        "model = create_model2(lr=.0001)\n",
        "\n",
        "SGD = model.fit(X_train, \n",
        "                       y_train,\n",
        "                       epochs=30,\n",
        "                       batch_size=16,\n",
        "                       validation_data=(X_test, y_test)\n",
        ")"
      ],
      "execution_count": 37,
      "outputs": [
        {
          "output_type": "stream",
          "text": [
            "Epoch 1/30\n",
            "5000/5000 [==============================] - 10s 2ms/step - loss: 2.8718 - accuracy: 0.2591 - val_loss: 1.8952 - val_accuracy: 0.3067\n",
            "Epoch 2/30\n",
            "5000/5000 [==============================] - 10s 2ms/step - loss: 1.7416 - accuracy: 0.3586 - val_loss: 1.6464 - val_accuracy: 0.3775\n",
            "Epoch 3/30\n",
            "5000/5000 [==============================] - 10s 2ms/step - loss: 1.5494 - accuracy: 0.4299 - val_loss: 1.5370 - val_accuracy: 0.4503\n",
            "Epoch 4/30\n",
            "5000/5000 [==============================] - 10s 2ms/step - loss: 1.4691 - accuracy: 0.4675 - val_loss: 1.4680 - val_accuracy: 0.4899\n",
            "Epoch 5/30\n",
            "5000/5000 [==============================] - 10s 2ms/step - loss: 1.4058 - accuracy: 0.4971 - val_loss: 1.4241 - val_accuracy: 0.4967\n",
            "Epoch 6/30\n",
            "5000/5000 [==============================] - 10s 2ms/step - loss: 1.3568 - accuracy: 0.5175 - val_loss: 1.4018 - val_accuracy: 0.5084\n",
            "Epoch 7/30\n",
            "5000/5000 [==============================] - 10s 2ms/step - loss: 1.3166 - accuracy: 0.5315 - val_loss: 1.3619 - val_accuracy: 0.5328\n",
            "Epoch 8/30\n",
            "5000/5000 [==============================] - 10s 2ms/step - loss: 1.2789 - accuracy: 0.5473 - val_loss: 1.3077 - val_accuracy: 0.5251\n",
            "Epoch 9/30\n",
            "5000/5000 [==============================] - 10s 2ms/step - loss: 1.2322 - accuracy: 0.5687 - val_loss: 1.2593 - val_accuracy: 0.5649\n",
            "Epoch 10/30\n",
            "5000/5000 [==============================] - 10s 2ms/step - loss: 1.1804 - accuracy: 0.5902 - val_loss: 1.2282 - val_accuracy: 0.5928\n",
            "Epoch 11/30\n",
            "5000/5000 [==============================] - 10s 2ms/step - loss: 1.1355 - accuracy: 0.6050 - val_loss: 1.1648 - val_accuracy: 0.6105\n",
            "Epoch 12/30\n",
            "5000/5000 [==============================] - 10s 2ms/step - loss: 1.1012 - accuracy: 0.6157 - val_loss: 1.1461 - val_accuracy: 0.6155\n",
            "Epoch 13/30\n",
            "5000/5000 [==============================] - 10s 2ms/step - loss: 1.0743 - accuracy: 0.6274 - val_loss: 1.1241 - val_accuracy: 0.6297\n",
            "Epoch 14/30\n",
            "5000/5000 [==============================] - 10s 2ms/step - loss: 1.0509 - accuracy: 0.6395 - val_loss: 1.0979 - val_accuracy: 0.6356\n",
            "Epoch 15/30\n",
            "5000/5000 [==============================] - 10s 2ms/step - loss: 1.0273 - accuracy: 0.6510 - val_loss: 1.0921 - val_accuracy: 0.6428\n",
            "Epoch 16/30\n",
            "5000/5000 [==============================] - 10s 2ms/step - loss: 1.0074 - accuracy: 0.6622 - val_loss: 1.0573 - val_accuracy: 0.6602\n",
            "Epoch 17/30\n",
            "5000/5000 [==============================] - 10s 2ms/step - loss: 0.9876 - accuracy: 0.6707 - val_loss: 1.0449 - val_accuracy: 0.6651\n",
            "Epoch 18/30\n",
            "5000/5000 [==============================] - 10s 2ms/step - loss: 0.9707 - accuracy: 0.6788 - val_loss: 1.0229 - val_accuracy: 0.6748\n",
            "Epoch 19/30\n",
            "5000/5000 [==============================] - 10s 2ms/step - loss: 0.9531 - accuracy: 0.6869 - val_loss: 1.0120 - val_accuracy: 0.6794\n",
            "Epoch 20/30\n",
            "5000/5000 [==============================] - 10s 2ms/step - loss: 0.9371 - accuracy: 0.6948 - val_loss: 0.9974 - val_accuracy: 0.6960\n",
            "Epoch 21/30\n",
            "5000/5000 [==============================] - 10s 2ms/step - loss: 0.9202 - accuracy: 0.7044 - val_loss: 0.9825 - val_accuracy: 0.7038\n",
            "Epoch 22/30\n",
            "5000/5000 [==============================] - 10s 2ms/step - loss: 0.9051 - accuracy: 0.7132 - val_loss: 0.9683 - val_accuracy: 0.6945\n",
            "Epoch 23/30\n",
            "5000/5000 [==============================] - 11s 2ms/step - loss: 0.8906 - accuracy: 0.7222 - val_loss: 0.9430 - val_accuracy: 0.7183\n",
            "Epoch 24/30\n",
            "5000/5000 [==============================] - 10s 2ms/step - loss: 0.8777 - accuracy: 0.7268 - val_loss: 0.9391 - val_accuracy: 0.7242\n",
            "Epoch 25/30\n",
            "5000/5000 [==============================] - 10s 2ms/step - loss: 0.8673 - accuracy: 0.7303 - val_loss: 0.9363 - val_accuracy: 0.7230\n",
            "Epoch 26/30\n",
            "5000/5000 [==============================] - 10s 2ms/step - loss: 0.8568 - accuracy: 0.7346 - val_loss: 0.9189 - val_accuracy: 0.7289\n",
            "Epoch 27/30\n",
            "5000/5000 [==============================] - 9s 2ms/step - loss: 0.8474 - accuracy: 0.7372 - val_loss: 0.9158 - val_accuracy: 0.7287\n",
            "Epoch 28/30\n",
            "5000/5000 [==============================] - 9s 2ms/step - loss: 0.8394 - accuracy: 0.7398 - val_loss: 0.9147 - val_accuracy: 0.7279\n",
            "Epoch 29/30\n",
            "5000/5000 [==============================] - 9s 2ms/step - loss: 0.8321 - accuracy: 0.7427 - val_loss: 0.9098 - val_accuracy: 0.7334\n",
            "Epoch 30/30\n",
            "5000/5000 [==============================] - 9s 2ms/step - loss: 0.8251 - accuracy: 0.7464 - val_loss: 0.9048 - val_accuracy: 0.7358\n"
          ],
          "name": "stdout"
        }
      ]
    },
    {
      "cell_type": "code",
      "metadata": {
        "id": "_hfVbmLEFzUK",
        "colab_type": "code",
        "colab": {
          "base_uri": "https://localhost:8080/",
          "height": 1000
        },
        "outputId": "f914e614-90ee-4a0d-a26c-c7446e64f141"
      },
      "source": [
        "def create_model3(lr=0.001):\n",
        "  opt = Adadelta(learning_rate=lr)\n",
        "  model = Sequential([\n",
        "                      Dense(32, activation='relu', input_dim=784),\n",
        "                      Dense(32, activation='relu'),\n",
        "                      Dense(10, activation='softmax')\n",
        "  ])\n",
        "  model.compile(optimizer=opt,\n",
        "                loss='sparse_categorical_crossentropy',\n",
        "                metrics=['accuracy'])\n",
        "  return model\n",
        "\n",
        "model = create_model3(lr=.0001)\n",
        "\n",
        "Adadelta = model.fit(X_train, \n",
        "                       y_train,\n",
        "                       epochs=30,\n",
        "                       batch_size=16,\n",
        "                       validation_data=(X_test, y_test)\n",
        ")"
      ],
      "execution_count": 38,
      "outputs": [
        {
          "output_type": "stream",
          "text": [
            "Epoch 1/30\n",
            "5000/5000 [==============================] - 10s 2ms/step - loss: 120.8875 - accuracy: 0.0465 - val_loss: 112.9792 - val_accuracy: 0.0461\n",
            "Epoch 2/30\n",
            "5000/5000 [==============================] - 10s 2ms/step - loss: 106.7710 - accuracy: 0.0467 - val_loss: 100.8796 - val_accuracy: 0.0470\n",
            "Epoch 3/30\n",
            "5000/5000 [==============================] - 10s 2ms/step - loss: 96.3716 - accuracy: 0.0489 - val_loss: 91.9480 - val_accuracy: 0.0501\n",
            "Epoch 4/30\n",
            "5000/5000 [==============================] - 10s 2ms/step - loss: 88.6027 - accuracy: 0.0516 - val_loss: 85.1570 - val_accuracy: 0.0547\n",
            "Epoch 5/30\n",
            "5000/5000 [==============================] - 10s 2ms/step - loss: 82.5542 - accuracy: 0.0548 - val_loss: 79.7333 - val_accuracy: 0.0589\n",
            "Epoch 6/30\n",
            "5000/5000 [==============================] - 10s 2ms/step - loss: 77.6042 - accuracy: 0.0584 - val_loss: 75.2037 - val_accuracy: 0.0615\n",
            "Epoch 7/30\n",
            "5000/5000 [==============================] - 10s 2ms/step - loss: 73.3731 - accuracy: 0.0615 - val_loss: 71.2515 - val_accuracy: 0.0657\n",
            "Epoch 8/30\n",
            "5000/5000 [==============================] - 10s 2ms/step - loss: 69.6236 - accuracy: 0.0648 - val_loss: 67.6969 - val_accuracy: 0.0695\n",
            "Epoch 9/30\n",
            "5000/5000 [==============================] - 10s 2ms/step - loss: 66.2251 - accuracy: 0.0680 - val_loss: 64.4691 - val_accuracy: 0.0728\n",
            "Epoch 10/30\n",
            "5000/5000 [==============================] - 10s 2ms/step - loss: 63.1116 - accuracy: 0.0711 - val_loss: 61.5013 - val_accuracy: 0.0764\n",
            "Epoch 11/30\n",
            "5000/5000 [==============================] - 10s 2ms/step - loss: 60.2445 - accuracy: 0.0741 - val_loss: 58.7526 - val_accuracy: 0.0804\n",
            "Epoch 12/30\n",
            "5000/5000 [==============================] - 10s 2ms/step - loss: 57.5720 - accuracy: 0.0772 - val_loss: 56.1784 - val_accuracy: 0.0846\n",
            "Epoch 13/30\n",
            "5000/5000 [==============================] - 10s 2ms/step - loss: 55.0686 - accuracy: 0.0805 - val_loss: 53.7653 - val_accuracy: 0.0878\n",
            "Epoch 14/30\n",
            "5000/5000 [==============================] - 10s 2ms/step - loss: 52.7166 - accuracy: 0.0837 - val_loss: 51.4938 - val_accuracy: 0.0901\n",
            "Epoch 15/30\n",
            "5000/5000 [==============================] - 9s 2ms/step - loss: 50.5000 - accuracy: 0.0864 - val_loss: 49.3545 - val_accuracy: 0.0928\n",
            "Epoch 16/30\n",
            "5000/5000 [==============================] - 11s 2ms/step - loss: 48.4174 - accuracy: 0.0896 - val_loss: 47.3381 - val_accuracy: 0.0950\n",
            "Epoch 17/30\n",
            "5000/5000 [==============================] - 10s 2ms/step - loss: 46.4603 - accuracy: 0.0925 - val_loss: 45.4422 - val_accuracy: 0.0988\n",
            "Epoch 18/30\n",
            "5000/5000 [==============================] - 10s 2ms/step - loss: 44.6295 - accuracy: 0.0954 - val_loss: 43.6702 - val_accuracy: 0.1015\n",
            "Epoch 19/30\n",
            "5000/5000 [==============================] - 10s 2ms/step - loss: 42.9171 - accuracy: 0.0997 - val_loss: 42.0023 - val_accuracy: 0.1037\n",
            "Epoch 20/30\n",
            "5000/5000 [==============================] - 10s 2ms/step - loss: 41.3069 - accuracy: 0.1023 - val_loss: 40.4320 - val_accuracy: 0.1072\n",
            "Epoch 21/30\n",
            "5000/5000 [==============================] - 10s 2ms/step - loss: 39.7946 - accuracy: 0.1046 - val_loss: 38.9582 - val_accuracy: 0.1097\n",
            "Epoch 22/30\n",
            "5000/5000 [==============================] - 10s 2ms/step - loss: 38.3732 - accuracy: 0.1075 - val_loss: 37.5671 - val_accuracy: 0.1134\n",
            "Epoch 23/30\n",
            "5000/5000 [==============================] - 10s 2ms/step - loss: 37.0369 - accuracy: 0.1099 - val_loss: 36.2600 - val_accuracy: 0.1156\n",
            "Epoch 24/30\n",
            "5000/5000 [==============================] - 11s 2ms/step - loss: 35.7778 - accuracy: 0.1129 - val_loss: 35.0373 - val_accuracy: 0.1191\n",
            "Epoch 25/30\n",
            "5000/5000 [==============================] - 11s 2ms/step - loss: 34.5956 - accuracy: 0.1160 - val_loss: 33.8857 - val_accuracy: 0.1209\n",
            "Epoch 26/30\n",
            "5000/5000 [==============================] - 10s 2ms/step - loss: 33.4776 - accuracy: 0.1182 - val_loss: 32.7969 - val_accuracy: 0.1239\n",
            "Epoch 27/30\n",
            "5000/5000 [==============================] - 10s 2ms/step - loss: 32.4251 - accuracy: 0.1207 - val_loss: 31.7733 - val_accuracy: 0.1259\n",
            "Epoch 28/30\n",
            "5000/5000 [==============================] - 10s 2ms/step - loss: 31.4309 - accuracy: 0.1230 - val_loss: 30.8066 - val_accuracy: 0.1282\n",
            "Epoch 29/30\n",
            "5000/5000 [==============================] - 10s 2ms/step - loss: 30.4975 - accuracy: 0.1256 - val_loss: 29.8959 - val_accuracy: 0.1308\n",
            "Epoch 30/30\n",
            "5000/5000 [==============================] - 10s 2ms/step - loss: 29.6157 - accuracy: 0.1276 - val_loss: 29.0322 - val_accuracy: 0.1336\n"
          ],
          "name": "stdout"
        }
      ]
    },
    {
      "cell_type": "code",
      "metadata": {
        "id": "rndA3zAqFzeB",
        "colab_type": "code",
        "colab": {
          "base_uri": "https://localhost:8080/",
          "height": 1000
        },
        "outputId": "32c3677e-6d9f-47c2-b202-72ee3dcfd9b7"
      },
      "source": [
        "def create_model4(lr=0.001):\n",
        "  opt = Adagrad(learning_rate=lr)\n",
        "  model = Sequential([\n",
        "                      Dense(32, activation='relu', input_dim=784),\n",
        "                      Dense(32, activation='relu'),\n",
        "                      Dense(10, activation='softmax')\n",
        "  ])\n",
        "  model.compile(optimizer=opt,\n",
        "                loss='sparse_categorical_crossentropy',\n",
        "                metrics=['accuracy'])\n",
        "  return model\n",
        "\n",
        "model = create_model4(lr=.0001)\n",
        "\n",
        "Adagrad = model.fit(X_train, \n",
        "                       y_train,\n",
        "                       epochs=30,\n",
        "                       batch_size=16,\n",
        "                       validation_data=(X_test, y_test)\n",
        ")"
      ],
      "execution_count": 39,
      "outputs": [
        {
          "output_type": "stream",
          "text": [
            "Epoch 1/30\n",
            "5000/5000 [==============================] - 9s 2ms/step - loss: 42.1900 - accuracy: 0.1305 - val_loss: 32.2746 - val_accuracy: 0.1535\n",
            "Epoch 2/30\n",
            "5000/5000 [==============================] - 9s 2ms/step - loss: 28.8765 - accuracy: 0.1678 - val_loss: 26.3641 - val_accuracy: 0.1732\n",
            "Epoch 3/30\n",
            "5000/5000 [==============================] - 9s 2ms/step - loss: 24.6163 - accuracy: 0.1852 - val_loss: 23.2403 - val_accuracy: 0.1899\n",
            "Epoch 4/30\n",
            "5000/5000 [==============================] - 9s 2ms/step - loss: 22.0783 - accuracy: 0.1984 - val_loss: 21.1610 - val_accuracy: 0.2032\n",
            "Epoch 5/30\n",
            "5000/5000 [==============================] - 9s 2ms/step - loss: 20.2815 - accuracy: 0.2082 - val_loss: 19.5947 - val_accuracy: 0.2112\n",
            "Epoch 6/30\n",
            "5000/5000 [==============================] - 9s 2ms/step - loss: 18.8960 - accuracy: 0.2163 - val_loss: 18.3539 - val_accuracy: 0.2186\n",
            "Epoch 7/30\n",
            "5000/5000 [==============================] - 10s 2ms/step - loss: 17.7714 - accuracy: 0.2241 - val_loss: 17.3319 - val_accuracy: 0.2271\n",
            "Epoch 8/30\n",
            "5000/5000 [==============================] - 9s 2ms/step - loss: 16.8280 - accuracy: 0.2300 - val_loss: 16.4616 - val_accuracy: 0.2324\n",
            "Epoch 9/30\n",
            "5000/5000 [==============================] - 9s 2ms/step - loss: 16.0186 - accuracy: 0.2355 - val_loss: 15.7050 - val_accuracy: 0.2359\n",
            "Epoch 10/30\n",
            "5000/5000 [==============================] - 9s 2ms/step - loss: 15.3079 - accuracy: 0.2400 - val_loss: 15.0369 - val_accuracy: 0.2400\n",
            "Epoch 11/30\n",
            "5000/5000 [==============================] - 9s 2ms/step - loss: 14.6792 - accuracy: 0.2445 - val_loss: 14.4389 - val_accuracy: 0.2449\n",
            "Epoch 12/30\n",
            "5000/5000 [==============================] - 9s 2ms/step - loss: 14.1144 - accuracy: 0.2474 - val_loss: 13.8992 - val_accuracy: 0.2465\n",
            "Epoch 13/30\n",
            "5000/5000 [==============================] - 9s 2ms/step - loss: 13.6021 - accuracy: 0.2510 - val_loss: 13.4080 - val_accuracy: 0.2510\n",
            "Epoch 14/30\n",
            "5000/5000 [==============================] - 9s 2ms/step - loss: 13.1348 - accuracy: 0.2533 - val_loss: 12.9604 - val_accuracy: 0.2532\n",
            "Epoch 15/30\n",
            "5000/5000 [==============================] - 11s 2ms/step - loss: 12.7047 - accuracy: 0.2556 - val_loss: 12.5460 - val_accuracy: 0.2566\n",
            "Epoch 16/30\n",
            "5000/5000 [==============================] - 10s 2ms/step - loss: 12.3057 - accuracy: 0.2579 - val_loss: 12.1580 - val_accuracy: 0.2587\n",
            "Epoch 17/30\n",
            "5000/5000 [==============================] - 10s 2ms/step - loss: 11.9335 - accuracy: 0.2598 - val_loss: 11.7961 - val_accuracy: 0.2598\n",
            "Epoch 18/30\n",
            "5000/5000 [==============================] - 10s 2ms/step - loss: 11.5845 - accuracy: 0.2609 - val_loss: 11.4579 - val_accuracy: 0.2592\n",
            "Epoch 19/30\n",
            "5000/5000 [==============================] - 10s 2ms/step - loss: 11.2554 - accuracy: 0.2623 - val_loss: 11.1389 - val_accuracy: 0.2609\n",
            "Epoch 20/30\n",
            "5000/5000 [==============================] - 10s 2ms/step - loss: 10.9445 - accuracy: 0.2634 - val_loss: 10.8375 - val_accuracy: 0.2622\n",
            "Epoch 21/30\n",
            "5000/5000 [==============================] - 10s 2ms/step - loss: 10.6483 - accuracy: 0.2637 - val_loss: 10.5476 - val_accuracy: 0.2632\n",
            "Epoch 22/30\n",
            "5000/5000 [==============================] - 10s 2ms/step - loss: 10.3643 - accuracy: 0.2635 - val_loss: 10.2708 - val_accuracy: 0.2635\n",
            "Epoch 23/30\n",
            "5000/5000 [==============================] - 10s 2ms/step - loss: 10.0922 - accuracy: 0.2635 - val_loss: 10.0054 - val_accuracy: 0.2637\n",
            "Epoch 24/30\n",
            "5000/5000 [==============================] - 10s 2ms/step - loss: 9.8289 - accuracy: 0.2639 - val_loss: 9.7502 - val_accuracy: 0.2629\n",
            "Epoch 25/30\n",
            "5000/5000 [==============================] - 10s 2ms/step - loss: 9.5744 - accuracy: 0.2648 - val_loss: 9.5036 - val_accuracy: 0.2634\n",
            "Epoch 26/30\n",
            "5000/5000 [==============================] - 10s 2ms/step - loss: 9.3286 - accuracy: 0.2654 - val_loss: 9.2648 - val_accuracy: 0.2632\n",
            "Epoch 27/30\n",
            "5000/5000 [==============================] - 12s 2ms/step - loss: 9.0893 - accuracy: 0.2654 - val_loss: 9.0303 - val_accuracy: 0.2612\n",
            "Epoch 28/30\n",
            "5000/5000 [==============================] - 10s 2ms/step - loss: 8.8546 - accuracy: 0.2662 - val_loss: 8.8005 - val_accuracy: 0.2605\n",
            "Epoch 29/30\n",
            "5000/5000 [==============================] - 10s 2ms/step - loss: 8.6259 - accuracy: 0.2661 - val_loss: 8.5750 - val_accuracy: 0.2614\n",
            "Epoch 30/30\n",
            "5000/5000 [==============================] - 10s 2ms/step - loss: 8.4021 - accuracy: 0.2658 - val_loss: 8.3532 - val_accuracy: 0.2608\n"
          ],
          "name": "stdout"
        }
      ]
    },
    {
      "cell_type": "code",
      "metadata": {
        "id": "lBoCqZzmFzki",
        "colab_type": "code",
        "colab": {
          "base_uri": "https://localhost:8080/",
          "height": 1000
        },
        "outputId": "a909eec5-76fd-418f-c2a4-1f6012438e65"
      },
      "source": [
        "def create_model5(lr=0.001):\n",
        "  opt = Adamax(learning_rate=lr)\n",
        "  model = Sequential([\n",
        "                      Dense(32, activation='relu', input_dim=784),\n",
        "                      Dense(32, activation='relu'),\n",
        "                      Dense(10, activation='softmax')\n",
        "  ])\n",
        "  model.compile(optimizer=opt,\n",
        "                loss='sparse_categorical_crossentropy',\n",
        "                metrics=['accuracy'])\n",
        "  return model\n",
        "\n",
        "model = create_model5(lr=.0001)\n",
        "\n",
        "Adamax = model.fit(X_train, \n",
        "                       y_train,\n",
        "                       epochs=30,\n",
        "                       batch_size=16,\n",
        "                       validation_data=(X_test, y_test)\n",
        ")"
      ],
      "execution_count": 40,
      "outputs": [
        {
          "output_type": "stream",
          "text": [
            "Epoch 1/30\n",
            "5000/5000 [==============================] - 11s 2ms/step - loss: 9.7015 - accuracy: 0.2126 - val_loss: 2.2877 - val_accuracy: 0.2548\n",
            "Epoch 2/30\n",
            "5000/5000 [==============================] - 10s 2ms/step - loss: 2.1039 - accuracy: 0.2944 - val_loss: 1.9677 - val_accuracy: 0.3240\n",
            "Epoch 3/30\n",
            "5000/5000 [==============================] - 10s 2ms/step - loss: 1.8813 - accuracy: 0.3522 - val_loss: 1.8133 - val_accuracy: 0.3798\n",
            "Epoch 4/30\n",
            "5000/5000 [==============================] - 10s 2ms/step - loss: 1.7444 - accuracy: 0.3984 - val_loss: 1.6989 - val_accuracy: 0.4101\n",
            "Epoch 5/30\n",
            "5000/5000 [==============================] - 10s 2ms/step - loss: 1.6380 - accuracy: 0.4342 - val_loss: 1.6216 - val_accuracy: 0.4495\n",
            "Epoch 6/30\n",
            "5000/5000 [==============================] - 10s 2ms/step - loss: 1.5646 - accuracy: 0.4579 - val_loss: 1.5630 - val_accuracy: 0.4522\n",
            "Epoch 7/30\n",
            "5000/5000 [==============================] - 10s 2ms/step - loss: 1.5101 - accuracy: 0.4728 - val_loss: 1.5228 - val_accuracy: 0.4681\n",
            "Epoch 8/30\n",
            "5000/5000 [==============================] - 10s 2ms/step - loss: 1.4674 - accuracy: 0.4877 - val_loss: 1.4897 - val_accuracy: 0.4837\n",
            "Epoch 9/30\n",
            "5000/5000 [==============================] - 10s 2ms/step - loss: 1.4337 - accuracy: 0.4969 - val_loss: 1.4602 - val_accuracy: 0.4981\n",
            "Epoch 10/30\n",
            "5000/5000 [==============================] - 10s 2ms/step - loss: 1.4060 - accuracy: 0.5062 - val_loss: 1.4396 - val_accuracy: 0.5057\n",
            "Epoch 11/30\n",
            "5000/5000 [==============================] - 12s 2ms/step - loss: 1.3817 - accuracy: 0.5137 - val_loss: 1.4174 - val_accuracy: 0.5101\n",
            "Epoch 12/30\n",
            "5000/5000 [==============================] - 11s 2ms/step - loss: 1.3600 - accuracy: 0.5205 - val_loss: 1.4024 - val_accuracy: 0.5154\n",
            "Epoch 13/30\n",
            "5000/5000 [==============================] - 10s 2ms/step - loss: 1.3405 - accuracy: 0.5285 - val_loss: 1.3829 - val_accuracy: 0.5249\n",
            "Epoch 14/30\n",
            "5000/5000 [==============================] - 10s 2ms/step - loss: 1.3229 - accuracy: 0.5333 - val_loss: 1.3667 - val_accuracy: 0.5333\n",
            "Epoch 15/30\n",
            "5000/5000 [==============================] - 10s 2ms/step - loss: 1.3076 - accuracy: 0.5376 - val_loss: 1.3536 - val_accuracy: 0.5325\n",
            "Epoch 16/30\n",
            "5000/5000 [==============================] - 10s 2ms/step - loss: 1.2934 - accuracy: 0.5440 - val_loss: 1.3409 - val_accuracy: 0.5379\n",
            "Epoch 17/30\n",
            "5000/5000 [==============================] - 10s 2ms/step - loss: 1.2793 - accuracy: 0.5484 - val_loss: 1.3296 - val_accuracy: 0.5450\n",
            "Epoch 18/30\n",
            "5000/5000 [==============================] - 10s 2ms/step - loss: 1.2660 - accuracy: 0.5551 - val_loss: 1.3155 - val_accuracy: 0.5497\n",
            "Epoch 19/30\n",
            "5000/5000 [==============================] - 10s 2ms/step - loss: 1.2538 - accuracy: 0.5602 - val_loss: 1.3064 - val_accuracy: 0.5569\n",
            "Epoch 20/30\n",
            "5000/5000 [==============================] - 10s 2ms/step - loss: 1.2421 - accuracy: 0.5648 - val_loss: 1.2972 - val_accuracy: 0.5616\n",
            "Epoch 21/30\n",
            "5000/5000 [==============================] - 10s 2ms/step - loss: 1.2312 - accuracy: 0.5701 - val_loss: 1.2859 - val_accuracy: 0.5647\n",
            "Epoch 22/30\n",
            "5000/5000 [==============================] - 10s 2ms/step - loss: 1.2210 - accuracy: 0.5744 - val_loss: 1.2833 - val_accuracy: 0.5658\n",
            "Epoch 23/30\n",
            "5000/5000 [==============================] - 10s 2ms/step - loss: 1.2105 - accuracy: 0.5791 - val_loss: 1.2733 - val_accuracy: 0.5646\n",
            "Epoch 24/30\n",
            "5000/5000 [==============================] - 10s 2ms/step - loss: 1.2005 - accuracy: 0.5834 - val_loss: 1.2636 - val_accuracy: 0.5721\n",
            "Epoch 25/30\n",
            "5000/5000 [==============================] - 10s 2ms/step - loss: 1.1909 - accuracy: 0.5882 - val_loss: 1.2531 - val_accuracy: 0.5766\n",
            "Epoch 26/30\n",
            "5000/5000 [==============================] - 11s 2ms/step - loss: 1.1814 - accuracy: 0.5919 - val_loss: 1.2465 - val_accuracy: 0.5840\n",
            "Epoch 27/30\n",
            "5000/5000 [==============================] - 11s 2ms/step - loss: 1.1726 - accuracy: 0.5950 - val_loss: 1.2360 - val_accuracy: 0.5854\n",
            "Epoch 28/30\n",
            "5000/5000 [==============================] - 10s 2ms/step - loss: 1.1645 - accuracy: 0.5988 - val_loss: 1.2304 - val_accuracy: 0.5930\n",
            "Epoch 29/30\n",
            "5000/5000 [==============================] - 10s 2ms/step - loss: 1.1565 - accuracy: 0.6031 - val_loss: 1.2267 - val_accuracy: 0.5902\n",
            "Epoch 30/30\n",
            "5000/5000 [==============================] - 10s 2ms/step - loss: 1.1484 - accuracy: 0.6043 - val_loss: 1.2202 - val_accuracy: 0.5964\n"
          ],
          "name": "stdout"
        }
      ]
    },
    {
      "cell_type": "code",
      "metadata": {
        "id": "6b9FF-zEFzra",
        "colab_type": "code",
        "colab": {
          "base_uri": "https://localhost:8080/",
          "height": 1000
        },
        "outputId": "2e72077a-6b80-425a-8762-0f8f17439001"
      },
      "source": [
        "def create_model6(lr=0.001):\n",
        "  opt = Ftrl(learning_rate=lr)\n",
        "  model = Sequential([\n",
        "                      Dense(32, activation='relu', input_dim=784),\n",
        "                      Dense(32, activation='relu'),\n",
        "                      Dense(10, activation='softmax')\n",
        "  ])\n",
        "  model.compile(optimizer=opt,\n",
        "                loss='sparse_categorical_crossentropy',\n",
        "                metrics=['accuracy'])\n",
        "  return model\n",
        "\n",
        "model = create_model6(lr=.0001)\n",
        "\n",
        "Ftrl = model.fit(X_train, \n",
        "                       y_train,\n",
        "                       epochs=30,\n",
        "                       batch_size=16,\n",
        "                       validation_data=(X_test, y_test)\n",
        ")"
      ],
      "execution_count": 41,
      "outputs": [
        {
          "output_type": "stream",
          "text": [
            "Epoch 1/30\n",
            "5000/5000 [==============================] - 10s 2ms/step - loss: 22.7220 - accuracy: 0.2099 - val_loss: 15.1862 - val_accuracy: 0.2576\n",
            "Epoch 2/30\n",
            "5000/5000 [==============================] - 10s 2ms/step - loss: 13.3197 - accuracy: 0.2692 - val_loss: 11.7283 - val_accuracy: 0.2874\n",
            "Epoch 3/30\n",
            "5000/5000 [==============================] - 10s 2ms/step - loss: 10.8160 - accuracy: 0.2919 - val_loss: 9.8900 - val_accuracy: 0.3045\n",
            "Epoch 4/30\n",
            "5000/5000 [==============================] - 10s 2ms/step - loss: 9.3102 - accuracy: 0.3053 - val_loss: 8.6780 - val_accuracy: 0.3162\n",
            "Epoch 5/30\n",
            "5000/5000 [==============================] - 10s 2ms/step - loss: 8.2632 - accuracy: 0.3135 - val_loss: 7.7972 - val_accuracy: 0.3246\n",
            "Epoch 6/30\n",
            "5000/5000 [==============================] - 10s 2ms/step - loss: 7.4771 - accuracy: 0.3203 - val_loss: 7.1109 - val_accuracy: 0.3276\n",
            "Epoch 7/30\n",
            "5000/5000 [==============================] - 10s 2ms/step - loss: 6.8513 - accuracy: 0.3247 - val_loss: 6.5565 - val_accuracy: 0.3325\n",
            "Epoch 8/30\n",
            "5000/5000 [==============================] - 10s 2ms/step - loss: 6.3362 - accuracy: 0.3289 - val_loss: 6.0940 - val_accuracy: 0.3341\n",
            "Epoch 9/30\n",
            "5000/5000 [==============================] - 10s 2ms/step - loss: 5.9034 - accuracy: 0.3336 - val_loss: 5.7010 - val_accuracy: 0.3376\n",
            "Epoch 10/30\n",
            "5000/5000 [==============================] - 10s 2ms/step - loss: 5.5341 - accuracy: 0.3359 - val_loss: 5.3626 - val_accuracy: 0.3396\n",
            "Epoch 11/30\n",
            "5000/5000 [==============================] - 10s 2ms/step - loss: 5.2154 - accuracy: 0.3376 - val_loss: 5.0698 - val_accuracy: 0.3406\n",
            "Epoch 12/30\n",
            "5000/5000 [==============================] - 10s 2ms/step - loss: 4.9379 - accuracy: 0.3385 - val_loss: 4.8110 - val_accuracy: 0.3424\n",
            "Epoch 13/30\n",
            "5000/5000 [==============================] - 10s 2ms/step - loss: 4.6921 - accuracy: 0.3410 - val_loss: 4.5780 - val_accuracy: 0.3434\n",
            "Epoch 14/30\n",
            "5000/5000 [==============================] - 10s 2ms/step - loss: 4.4722 - accuracy: 0.3417 - val_loss: 4.3673 - val_accuracy: 0.3457\n",
            "Epoch 15/30\n",
            "5000/5000 [==============================] - 10s 2ms/step - loss: 4.2735 - accuracy: 0.3427 - val_loss: 4.1769 - val_accuracy: 0.3456\n",
            "Epoch 16/30\n",
            "5000/5000 [==============================] - 10s 2ms/step - loss: 4.0942 - accuracy: 0.3424 - val_loss: 4.0058 - val_accuracy: 0.3460\n",
            "Epoch 17/30\n",
            "5000/5000 [==============================] - 10s 2ms/step - loss: 3.9319 - accuracy: 0.3426 - val_loss: 3.8504 - val_accuracy: 0.3435\n",
            "Epoch 18/30\n",
            "5000/5000 [==============================] - 10s 2ms/step - loss: 3.7837 - accuracy: 0.3426 - val_loss: 3.7084 - val_accuracy: 0.3460\n",
            "Epoch 19/30\n",
            "5000/5000 [==============================] - 9s 2ms/step - loss: 3.6475 - accuracy: 0.3431 - val_loss: 3.5792 - val_accuracy: 0.3466\n",
            "Epoch 20/30\n",
            "5000/5000 [==============================] - 10s 2ms/step - loss: 3.5231 - accuracy: 0.3428 - val_loss: 3.4616 - val_accuracy: 0.3458\n",
            "Epoch 21/30\n",
            "5000/5000 [==============================] - 11s 2ms/step - loss: 3.4083 - accuracy: 0.3432 - val_loss: 3.3529 - val_accuracy: 0.3460\n",
            "Epoch 22/30\n",
            "5000/5000 [==============================] - 9s 2ms/step - loss: 3.3026 - accuracy: 0.3426 - val_loss: 3.2522 - val_accuracy: 0.3464\n",
            "Epoch 23/30\n",
            "5000/5000 [==============================] - 9s 2ms/step - loss: 3.2054 - accuracy: 0.3435 - val_loss: 3.1591 - val_accuracy: 0.3456\n",
            "Epoch 24/30\n",
            "5000/5000 [==============================] - 10s 2ms/step - loss: 3.1152 - accuracy: 0.3438 - val_loss: 3.0727 - val_accuracy: 0.3456\n",
            "Epoch 25/30\n",
            "5000/5000 [==============================] - 10s 2ms/step - loss: 3.0324 - accuracy: 0.3431 - val_loss: 2.9936 - val_accuracy: 0.3454\n",
            "Epoch 26/30\n",
            "5000/5000 [==============================] - 10s 2ms/step - loss: 2.9566 - accuracy: 0.3425 - val_loss: 2.9210 - val_accuracy: 0.3442\n",
            "Epoch 27/30\n",
            "5000/5000 [==============================] - 10s 2ms/step - loss: 2.8871 - accuracy: 0.3419 - val_loss: 2.8545 - val_accuracy: 0.3444\n",
            "Epoch 28/30\n",
            "5000/5000 [==============================] - 10s 2ms/step - loss: 2.8231 - accuracy: 0.3407 - val_loss: 2.7931 - val_accuracy: 0.3437\n",
            "Epoch 29/30\n",
            "5000/5000 [==============================] - 10s 2ms/step - loss: 2.7640 - accuracy: 0.3403 - val_loss: 2.7363 - val_accuracy: 0.3445\n",
            "Epoch 30/30\n",
            "5000/5000 [==============================] - 10s 2ms/step - loss: 2.7094 - accuracy: 0.3404 - val_loss: 2.6836 - val_accuracy: 0.3449\n"
          ],
          "name": "stdout"
        }
      ]
    },
    {
      "cell_type": "code",
      "metadata": {
        "id": "dPOewIhwIgNM",
        "colab_type": "code",
        "colab": {
          "base_uri": "https://localhost:8080/",
          "height": 201
        },
        "outputId": "ed19a700-3246-4196-8a03-7f4da89c2440"
      },
      "source": [
        "SGD, Adadelta, Adagrad, Adamax, Ftrl\n",
        "for exp, result in zip([SGD, Adadelta, Adagrad, Adamax, Ftrl], [\"SGD\", \"Adadelta\", \"Adagrad\", \"Adamax\", \"Ftrl\"]):\n",
        "    df = pd.DataFrame.from_dict(exp.history)\n",
        "    df['epoch'] = df.index.values\n",
        "    df['Optimzers'] = result\n",
        "    batch_sizes.append(df)\n",
        "\n",
        "df = pd.concat(batch_sizes)\n",
        "df['Optimzers'] = df['Optimzers'].astype('str')\n",
        "df.head()"
      ],
      "execution_count": 45,
      "outputs": [
        {
          "output_type": "execute_result",
          "data": {
            "text/html": [
              "<div>\n",
              "<style scoped>\n",
              "    .dataframe tbody tr th:only-of-type {\n",
              "        vertical-align: middle;\n",
              "    }\n",
              "\n",
              "    .dataframe tbody tr th {\n",
              "        vertical-align: top;\n",
              "    }\n",
              "\n",
              "    .dataframe thead th {\n",
              "        text-align: right;\n",
              "    }\n",
              "</style>\n",
              "<table border=\"1\" class=\"dataframe\">\n",
              "  <thead>\n",
              "    <tr style=\"text-align: right;\">\n",
              "      <th></th>\n",
              "      <th>loss</th>\n",
              "      <th>accuracy</th>\n",
              "      <th>val_loss</th>\n",
              "      <th>val_accuracy</th>\n",
              "      <th>epoch</th>\n",
              "      <th>Batch Size</th>\n",
              "      <th>Learning Rate</th>\n",
              "      <th>Optimzers</th>\n",
              "    </tr>\n",
              "  </thead>\n",
              "  <tbody>\n",
              "    <tr>\n",
              "      <th>0</th>\n",
              "      <td>2.061635</td>\n",
              "      <td>0.395638</td>\n",
              "      <td>1.391887</td>\n",
              "      <td>0.48230</td>\n",
              "      <td>0</td>\n",
              "      <td>32_</td>\n",
              "      <td>NaN</td>\n",
              "      <td>nan</td>\n",
              "    </tr>\n",
              "    <tr>\n",
              "      <th>1</th>\n",
              "      <td>1.284994</td>\n",
              "      <td>0.536788</td>\n",
              "      <td>1.243297</td>\n",
              "      <td>0.57730</td>\n",
              "      <td>1</td>\n",
              "      <td>32_</td>\n",
              "      <td>NaN</td>\n",
              "      <td>nan</td>\n",
              "    </tr>\n",
              "    <tr>\n",
              "      <th>2</th>\n",
              "      <td>1.176879</td>\n",
              "      <td>0.598300</td>\n",
              "      <td>1.155328</td>\n",
              "      <td>0.61820</td>\n",
              "      <td>2</td>\n",
              "      <td>32_</td>\n",
              "      <td>NaN</td>\n",
              "      <td>nan</td>\n",
              "    </tr>\n",
              "    <tr>\n",
              "      <th>3</th>\n",
              "      <td>1.127681</td>\n",
              "      <td>0.618988</td>\n",
              "      <td>1.123921</td>\n",
              "      <td>0.61875</td>\n",
              "      <td>3</td>\n",
              "      <td>32_</td>\n",
              "      <td>NaN</td>\n",
              "      <td>nan</td>\n",
              "    </tr>\n",
              "    <tr>\n",
              "      <th>4</th>\n",
              "      <td>1.104294</td>\n",
              "      <td>0.624000</td>\n",
              "      <td>1.152002</td>\n",
              "      <td>0.61760</td>\n",
              "      <td>4</td>\n",
              "      <td>32_</td>\n",
              "      <td>NaN</td>\n",
              "      <td>nan</td>\n",
              "    </tr>\n",
              "  </tbody>\n",
              "</table>\n",
              "</div>"
            ],
            "text/plain": [
              "       loss  accuracy  val_loss  ...  Batch Size  Learning Rate Optimzers\n",
              "0  2.061635  0.395638  1.391887  ...         32_            NaN       nan\n",
              "1  1.284994  0.536788  1.243297  ...         32_            NaN       nan\n",
              "2  1.176879  0.598300  1.155328  ...         32_            NaN       nan\n",
              "3  1.127681  0.618988  1.123921  ...         32_            NaN       nan\n",
              "4  1.104294  0.624000  1.152002  ...         32_            NaN       nan\n",
              "\n",
              "[5 rows x 8 columns]"
            ]
          },
          "metadata": {
            "tags": []
          },
          "execution_count": 45
        }
      ]
    },
    {
      "cell_type": "code",
      "metadata": {
        "id": "5SQQHYZLNpdf",
        "colab_type": "code",
        "colab": {
          "base_uri": "https://localhost:8080/",
          "height": 279
        },
        "outputId": "8e984bf4-17d1-412b-b996-46187542bbe1"
      },
      "source": [
        "sns.lineplot(x='epoch', y='val_accuracy', hue='Optimzers', data=df);"
      ],
      "execution_count": 46,
      "outputs": [
        {
          "output_type": "display_data",
          "data": {
            "image/png": "[encoded data removed]",
            "text/plain": [
              "<Figure size 432x288 with 1 Axes>"
            ]
          },
          "metadata": {
            "tags": [],
            "needs_background": "light"
          }
        }
      ]
    },
    {
      "cell_type": "markdown",
      "metadata": {
        "id": "ydAqeY9S8uHA",
        "colab_type": "text"
      },
      "source": [
        "### Additional Written Tasks\n",
        "\n",
        "1. Describe the process of backpropagation in your own words: \n",
        "```\n",
        "Backpropagation is when you run your weights back into your neural network in reverse order.\n",
        "```\n",
        "\n"
      ]
    },
    {
      "cell_type": "markdown",
      "metadata": {
        "colab_type": "text",
        "id": "FwlRJSfBlCvy"
      },
      "source": [
        "## Stretch Goals: \n",
        "\n",
        "- Implement GridSearch on anyone of the experiments\n",
        "- On the learning rate experiments, implement [EarlyStopping](https://www.tensorflow.org/api_docs/python/tf/keras/callbacks/EarlyStopping)\n",
        "- Review material on the math behind gradient descent: \n",
        "\n",
        "  - Gradient Descent\n",
        "    - Gradient Descent, Step-by-Step  by StatQuest w/ Josh Starmer. This will help you understand the gradient descent based optimization that happens underneath the hood of neural networks. It uses a non-neural network example, which I believe is a gentler introduction. You will hear me refer to this technique as \"vanilla\" gradient descent. \n",
        "    - Stochastic Gradient Descent, Clearly Explained!!! by StatQuest w/ Josh Starmer. This builds on the techniques in the previous video.  This technique is the one that is actually implemented inside modern 'nets. \n",
        "These are great resources to help you understand tomorrow's material at a deeper level. I highly recommend watching these ahead of tomorrow.\n",
        "\n",
        "  - Background Math\n",
        "    - Dot products and duality by 3Blue1Brown. Explains the core linear algebra operation happening in today's perceptron.\n",
        "The paradox of the derivative by 3Blue1Brown. Does a great job explaining a derivative. \n",
        "    - Visualizing the chain rule and product rule by 3Blue1Brown. Explains the black magic that happens within Stochastic Gradient Descent. \n",
        "These math resources are very much optional. They can be very heady, but I encourage you to explore. Your understanding of neural networks will greatly increase if you understand this math background.\n",
        "\n",
        "\n"
      ]
    }
  ]
}